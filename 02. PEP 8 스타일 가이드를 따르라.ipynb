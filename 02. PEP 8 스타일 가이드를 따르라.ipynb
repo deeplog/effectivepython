{
 "cells": [
  {
   "cell_type": "markdown",
   "source": [
    "온라인 가이드 참고\n",
    "https://www.python.org/dev/peps/pep-0008"
   ],
   "metadata": {
    "collapsed": false,
    "pycharm": {
     "name": "#%% md\n"
    }
   }
  },
  {
   "cell_type": "markdown",
   "source": [
    "### 공백\n",
    "\n",
    "* 탭 대신 스페이스로 들여쓰기\n",
    "* 4칸 스페이스\n",
    "* 라인당 79개 문자 이하\n",
    "* 함수와 클래스 사이에서는 빈 2줄을 넣어라"
   ],
   "metadata": {
    "collapsed": false,
    "pycharm": {
     "name": "#%% md\n"
    }
   }
  },
  {
   "cell_type": "markdown",
   "source": [
    "### 명명 규약\n",
    "\n",
    "* 함수, 변수, 어트리뷰는  lowercase_underscore (snake case)\n",
    "* protected 속성: _leading_underscore\n",
    "* private 속성: __leading_underscore\n",
    "* 클래스명: CapitalizedWord (camel case)\n",
    "* 모듈 수준의 상수: ALL_CAPS\n",
    "* self: 인스턴스 매서드의 첫번째 인자\n",
    "* cls: 클래스를 가리키는 첫번째 인자"
   ],
   "metadata": {
    "collapsed": false,
    "pycharm": {
     "name": "#%% md\n"
    }
   }
  },
  {
   "cell_type": "markdown",
   "source": [
    "### 식과문\n",
    "* 긍정식을 부정하지 말고 부정을 내부에 넣어라\n",
    "    * if not a is b (x)\n",
    "    * if a is not b (o)\n",
    "* 빈 컨테이너 검사\n",
    "    * if (len(something)==0) (x)\n",
    "    * if not container (o)\n",
    "* 한 줄짜리 if, for, while 쓰지 말것"
   ],
   "metadata": {
    "collapsed": false,
    "pycharm": {
     "name": "#%% md\n"
    }
   }
  },
  {
   "cell_type": "markdown",
   "source": [],
   "metadata": {
    "collapsed": false,
    "pycharm": {
     "name": "#%% md\n"
    }
   }
  }
 ],
 "metadata": {
  "kernelspec": {
   "display_name": "Python 3",
   "language": "python",
   "name": "python3"
  },
  "language_info": {
   "codemirror_mode": {
    "name": "ipython",
    "version": 2
   },
   "file_extension": ".py",
   "mimetype": "text/x-python",
   "name": "python",
   "nbconvert_exporter": "python",
   "pygments_lexer": "ipython2",
   "version": "2.7.6"
  }
 },
 "nbformat": 4,
 "nbformat_minor": 0
}