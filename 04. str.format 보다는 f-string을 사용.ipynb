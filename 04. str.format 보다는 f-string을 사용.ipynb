{
 "cells": [
  {
   "cell_type": "markdown",
   "source": [
    "### C-Style 형식의 문자열"
   ],
   "metadata": {
    "collapsed": false,
    "pycharm": {
     "name": "#%% md\n"
    }
   }
  },
  {
   "cell_type": "code",
   "execution_count": 2,
   "outputs": [
    {
     "name": "stdout",
     "output_type": "stream",
     "text": [
      "이진수:187, 십육진수:3167\n"
     ]
    }
   ],
   "source": [
    "#c의 printf문과 유사한 형식\n",
    "a= 0b10111011\n",
    "b= 0xc5f\n",
    "print('이진수:%d, 십육진수:%d' % (a,b))"
   ],
   "metadata": {
    "collapsed": false,
    "pycharm": {
     "name": "#%%\n"
    }
   }
  },
  {
   "cell_type": "code",
   "execution_count": 6,
   "outputs": [
    {
     "name": "stdout",
     "output_type": "stream",
     "text": [
      "my_var     = 1.23\n"
     ]
    },
    {
     "ename": "TypeError",
     "evalue": "must be real number, not str",
     "output_type": "error",
     "traceback": [
      "\u001B[1;31m---------------------------------------------------------------------------\u001B[0m",
      "\u001B[1;31mTypeError\u001B[0m                                 Traceback (most recent call last)",
      "Cell \u001B[1;32mIn [6], line 8\u001B[0m\n\u001B[0;32m      5\u001B[0m formatted \u001B[38;5;241m=\u001B[39m \u001B[38;5;124m'\u001B[39m\u001B[38;5;132;01m%-10s\u001B[39;00m\u001B[38;5;124m = \u001B[39m\u001B[38;5;132;01m%.2f\u001B[39;00m\u001B[38;5;124m'\u001B[39m \u001B[38;5;241m%\u001B[39m(key, value)\n\u001B[0;32m      6\u001B[0m \u001B[38;5;28mprint\u001B[39m(formatted)\n\u001B[1;32m----> 8\u001B[0m reordered_tuple \u001B[38;5;241m=\u001B[39m\u001B[38;5;124;43m'\u001B[39;49m\u001B[38;5;132;43;01m%-10s\u001B[39;49;00m\u001B[38;5;124;43m = \u001B[39;49m\u001B[38;5;132;43;01m%.2f\u001B[39;49;00m\u001B[38;5;124;43m'\u001B[39;49m\u001B[43m \u001B[49m\u001B[38;5;241;43m%\u001B[39;49m\u001B[43m(\u001B[49m\u001B[43mvalue\u001B[49m\u001B[43m,\u001B[49m\u001B[43m \u001B[49m\u001B[43mkey\u001B[49m\u001B[43m)\u001B[49m\n",
      "\u001B[1;31mTypeError\u001B[0m: must be real number, not str"
     ]
    }
   ],
   "source": [
    "#첫번재 문제점\n",
    "#key, value 순서가 변경되면 오류 발생\n",
    "key ='my_var'\n",
    "value = 1.234\n",
    "formatted = '%-10s = %.2f' %(key, value)\n",
    "print(formatted)\n",
    "\n",
    "reordered_tuple ='%-10s = %.2f' %(value, key)"
   ],
   "metadata": {
    "collapsed": false,
    "pycharm": {
     "name": "#%%\n"
    }
   }
  },
  {
   "cell_type": "code",
   "execution_count": 16,
   "outputs": [
    {
     "name": "stdout",
     "output_type": "stream",
     "text": [
      "#1: 아보카도       = 1\n",
      "#2: 바나나        = 2\n",
      "#3: 체리         = 15\n"
     ]
    }
   ],
   "source": [
    "#두번째 문제점\n",
    "#가독성 문제\n",
    "pantry = [\n",
    "    ('아보카도', 1.25),\n",
    "    ('바나나', 2.5),\n",
    "    ('체리', 15),\n",
    "]\n",
    "# for i, (item, count) in enumerate(pantry):\n",
    "#     print(\"#%d: %-10s = %.2f\" % (i, item, count))\n",
    "\n",
    "for i,(item, count) in enumerate(pantry):\n",
    "    print(\"#%d: %-10s = %d\" % (\n",
    "        i+1,\n",
    "        item.title(),\n",
    "        round(count))\n",
    "          )"
   ],
   "metadata": {
    "collapsed": false,
    "pycharm": {
     "name": "#%%\n"
    }
   }
  },
  {
   "cell_type": "code",
   "execution_count": 21,
   "outputs": [
    {
     "name": "stdout",
     "output_type": "stream",
     "text": [
      "철수는 음식을 좋아해. 철수가 요리하는 모습을 봐요\n"
     ]
    }
   ],
   "source": [
    "#세번째 문제점\n",
    "#같은 문자열을 반복하기 위해 튜플에서 여러번 기입해야 한다.\n",
    "template = \"%s는 음식을 좋아해. %s가 요리하는 모습을 봐요\"\n",
    "name = '철수'\n",
    "formatted = template % (name.title(), name.title())\n",
    "print(formatted)"
   ],
   "metadata": {
    "collapsed": false,
    "pycharm": {
     "name": "#%%\n"
    }
   }
  },
  {
   "cell_type": "markdown",
   "source": [
    "### f-string 사용하기"
   ],
   "metadata": {
    "collapsed": false,
    "pycharm": {
     "name": "#%% md\n"
    }
   }
  },
  {
   "cell_type": "code",
   "execution_count": 25,
   "outputs": [
    {
     "name": "stdout",
     "output_type": "stream",
     "text": [
      "'my_var'   = 1.23\n"
     ]
    }
   ],
   "source": [
    "#첫번째 문제점 해결\n",
    "key ='my_var'\n",
    "value = 1.234\n",
    "formatted = f'{key!r:<10} = {value:.2f}'\n",
    "print(formatted)"
   ],
   "metadata": {
    "collapsed": false,
    "pycharm": {
     "name": "#%%\n"
    }
   }
  },
  {
   "cell_type": "code",
   "execution_count": 27,
   "outputs": [
    {
     "name": "stdout",
     "output_type": "stream",
     "text": [
      "#1: 아보카도       = 1\n",
      "#2: 바나나        = 2\n",
      "#3: 체리         = 15\n"
     ]
    }
   ],
   "source": [
    "#두번째 문제점 해결\n",
    "pantry = [\n",
    "    ('아보카도', 1.25),\n",
    "    ('바나나', 2.5),\n",
    "    ('체리', 15),\n",
    "]\n",
    "for i,(item, count) in enumerate(pantry):\n",
    "    print(\n",
    "        f'#{i+1}: '\n",
    "        f'{item.title():<10s} = '\n",
    "        f'{round(count)}'\n",
    "    )"
   ],
   "metadata": {
    "collapsed": false,
    "pycharm": {
     "name": "#%%\n"
    }
   }
  },
  {
   "cell_type": "code",
   "execution_count": 28,
   "outputs": [
    {
     "name": "stdout",
     "output_type": "stream",
     "text": [
      "철수는 음식을 좋아해. 철수가 요리하는 모습을 봐요\n"
     ]
    }
   ],
   "source": [
    "# 세번째 문제점 해결\n",
    "name = '철수'\n",
    "formatted = f'{name}는 음식을 좋아해. {name}가 요리하는 모습을 봐요'\n",
    "print(formatted)"
   ],
   "metadata": {
    "collapsed": false,
    "pycharm": {
     "name": "#%%\n"
    }
   }
  }
 ],
 "metadata": {
  "kernelspec": {
   "display_name": "Python 3",
   "language": "python",
   "name": "python3"
  },
  "language_info": {
   "codemirror_mode": {
    "name": "ipython",
    "version": 2
   },
   "file_extension": ".py",
   "mimetype": "text/x-python",
   "name": "python",
   "nbconvert_exporter": "python",
   "pygments_lexer": "ipython2",
   "version": "2.7.6"
  }
 },
 "nbformat": 4,
 "nbformat_minor": 0
}