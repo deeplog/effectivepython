{
 "cells": [
  {
   "cell_type": "markdown",
   "source": [
    "else의 의미\n",
    "처리할 예외가 없는 경우에 이 블록을 실행하라\n",
    "즉 반복문이 다 돌면 else문이 실행된다.\n",
    "실전에서는 코드 유지 보수가 어려우므로 쓰지 마라"
   ],
   "metadata": {
    "collapsed": false,
    "pycharm": {
     "name": "#%% md\n"
    }
   }
  },
  {
   "cell_type": "code",
   "execution_count": 3,
   "outputs": [
    {
     "name": "stdout",
     "output_type": "stream",
     "text": [
      "Loop 0\n",
      "Loop 1\n",
      "Loop 2\n",
      "else block\n"
     ]
    }
   ],
   "source": [
    "#for문이 예외없이 실행이 끝났으므로 else가 실행이 된다.\n",
    "for i in range(3):\n",
    "    print('Loop', i)\n",
    "else:\n",
    "    print('else block')"
   ],
   "metadata": {
    "collapsed": false,
    "pycharm": {
     "name": "#%%\n"
    }
   }
  },
  {
   "cell_type": "code",
   "execution_count": 5,
   "outputs": [
    {
     "name": "stdout",
     "output_type": "stream",
     "text": [
      "Loop 0\n",
      "Loop 1\n"
     ]
    }
   ],
   "source": [
    "# 중간에 break 예외가 생겼으므로 else가 실행되지 않는다.\n",
    "for i in range(3):\n",
    "    print('Loop', i)\n",
    "    if i ==1:\n",
    "        break\n",
    "else:\n",
    "    print('else Block')"
   ],
   "metadata": {
    "collapsed": false,
    "pycharm": {
     "name": "#%%\n"
    }
   }
  },
  {
   "cell_type": "code",
   "execution_count": 10,
   "outputs": [
    {
     "name": "stdout",
     "output_type": "stream",
     "text": [
      "For else block\n"
     ]
    }
   ],
   "source": [
    "#for문 자체는 실행되지 않고, else 블록이 실행된다.\n",
    "for x in []:\n",
    "    print('blank라서 실행되지 않음')\n",
    "else:\n",
    "    print('For else block')"
   ],
   "metadata": {
    "collapsed": false,
    "pycharm": {
     "name": "#%%\n"
    }
   }
  },
  {
   "cell_type": "code",
   "execution_count": 12,
   "outputs": [
    {
     "name": "stdout",
     "output_type": "stream",
     "text": [
      "while else block\n"
     ]
    }
   ],
   "source": [
    "#while문 자체는 실행되지 않고, else 블록이 실행된다.\n",
    "while False:\n",
    "    print('False라서 실행되지 않음')\n",
    "else:\n",
    "    print('while else block')"
   ],
   "metadata": {
    "collapsed": false,
    "pycharm": {
     "name": "#%%\n"
    }
   }
  },
  {
   "cell_type": "code",
   "execution_count": 16,
   "outputs": [
    {
     "name": "stdout",
     "output_type": "stream",
     "text": [
      "검사 2\n",
      "검사 3\n",
      "검사 4\n",
      "서로소\n"
     ]
    }
   ],
   "source": [
    "# 문제\n",
    "# 최대공약수 구하기\n",
    "a=4\n",
    "b=9\n",
    "\n",
    "for i in range(2, min(a,b)+1):\n",
    "    print('검사', i)\n",
    "    if a%i ==0 and b%i ==0:\n",
    "        print('서로소 아님')\n",
    "        break\n",
    "else:\n",
    "    print('서로소')"
   ],
   "metadata": {
    "collapsed": false,
    "pycharm": {
     "name": "#%%\n"
    }
   }
  },
  {
   "cell_type": "code",
   "execution_count": 22,
   "outputs": [
    {
     "data": {
      "text/plain": "True"
     },
     "execution_count": 22,
     "metadata": {},
     "output_type": "execute_result"
    }
   ],
   "source": [
    "# 방법 helper 함수를 활용한다.\n",
    "def coprime(a,b):\n",
    "    for i in range(2, min(a,b)+1):\n",
    "        if a%i ==0 and b%i ==0:\n",
    "            return False\n",
    "    return True\n",
    "\n",
    "coprime(4,9)"
   ],
   "metadata": {
    "collapsed": false,
    "pycharm": {
     "name": "#%%\n"
    }
   }
  }
 ],
 "metadata": {
  "kernelspec": {
   "display_name": "Python 3",
   "language": "python",
   "name": "python3"
  },
  "language_info": {
   "codemirror_mode": {
    "name": "ipython",
    "version": 2
   },
   "file_extension": ".py",
   "mimetype": "text/x-python",
   "name": "python",
   "nbconvert_exporter": "python",
   "pygments_lexer": "ipython2",
   "version": "2.7.6"
  }
 },
 "nbformat": 4,
 "nbformat_minor": 0
}