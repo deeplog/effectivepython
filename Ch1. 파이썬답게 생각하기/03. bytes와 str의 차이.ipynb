{
 "cells": [
  {
   "cell_type": "markdown",
   "source": [
    "### 요약\n",
    "bytes vs str의 차이를 알것\n",
    "UTF-8의 의미를 이해할 것"
   ],
   "metadata": {
    "collapsed": false,
    "pycharm": {
     "name": "#%% md\n"
    }
   }
  },
  {
   "cell_type": "markdown",
   "source": [
    "byte와 unicode\n",
    "* bit: 0 과 1\n",
    "* byte(=8 bits): 1byte (0~255)로 문자 정의\n",
    "* ascii: 0~127로 문자를 정의\n",
    "* unicode: 1byte보다 큰 2bytes 크기로 문자 정의\n",
    " 유니코드 백과 사전: https://unicode-table.com/kr/"
   ],
   "metadata": {
    "collapsed": false,
    "pycharm": {
     "name": "#%% md\n"
    }
   }
  },
  {
   "cell_type": "markdown",
   "source": [
    "String vs Ascii value vs binary\n",
    "* H,e,l,l,o\n",
    "* 72,101,108,108\n",
    "* 01001000, 01100101, 01101100, 01101100, 01101111  (Ascii Encoding)"
   ],
   "metadata": {
    "collapsed": false,
    "pycharm": {
     "name": "#%% md\n"
    }
   }
  },
  {
   "cell_type": "markdown",
   "source": [
    "UTF-8: unicode Transformation for mat (8bit)\n",
    "* 가변길이 유니코드 인코딩\n",
    "* 예제1\n",
    "    * 곰\n",
    "    * 유니코드 code point: U+ACF0\n",
    "    * Binary 표현: ACF0= (1010,1100,1111,0000)  ==> 3byte 필요함\n",
    "    * UTF-8 인코딩 (3byte는 1110으로 시작)\n",
    "        * 11101010\n",
    "          10110011\n",
    "          10110000\n",
    "* 예제2\n",
    "    * a\n",
    "    * 유니코드 code point: U+0061\n",
    "    * Binary 표현: 0061= (0000,0000,0110,0001)  ==> 1byte 필요함\n",
    "    * UTF-8 인코딩 (1byte는 0으로 시작)\n",
    "        * 01100001"
   ],
   "metadata": {
    "collapsed": false,
    "pycharm": {
     "name": "#%% md\n"
    }
   }
  },
  {
   "cell_type": "markdown",
   "source": [
    "![](images/ascii.png)"
   ],
   "metadata": {
    "collapsed": false,
    "pycharm": {
     "name": "#%% md\n"
    }
   }
  },
  {
   "cell_type": "code",
   "execution_count": 32,
   "outputs": [
    {
     "name": "stdout",
     "output_type": "stream",
     "text": [
      "b'hello'\n",
      "[104, 101, 108, 108, 111]\n"
     ]
    }
   ],
   "source": [
    "#byte 형식 (각각의 엘리먼트에 byte단위로 값이 들어가 있음)\n",
    "a = b'h\\x65llo'\n",
    "print(a)\n",
    "print(list(a))"
   ],
   "metadata": {
    "collapsed": false,
    "pycharm": {
     "name": "#%%\n"
    }
   }
  },
  {
   "cell_type": "code",
   "execution_count": 33,
   "outputs": [
    {
     "name": "stdout",
     "output_type": "stream",
     "text": [
      "hello\n",
      "['h', 'e', 'l', 'l', 'o']\n"
     ]
    }
   ],
   "source": [
    "#str 형식 (각각의 엘리먼트에 문자가 들어가 있음)\n",
    "a = 'h\\x65llo'\n",
    "print(a)\n",
    "print(list(a))"
   ],
   "metadata": {
    "collapsed": false,
    "pycharm": {
     "name": "#%%\n"
    }
   }
  },
  {
   "cell_type": "code",
   "execution_count": 47,
   "outputs": [
    {
     "name": "stdout",
     "output_type": "stream",
     "text": [
      "b'a\\\\u0300 propos'\n",
      "[97, 92, 117, 48, 51, 48, 48, 32, 112, 114, 111, 112, 111, 115]\n"
     ]
    }
   ],
   "source": [
    "#byte 형식\n",
    "#실제 내용을 출력해 보면 숫자값이 들어있다.\n",
    "a=b'a\\u0300 propos'\n",
    "print(a)\n",
    "print(list(a))"
   ],
   "metadata": {
    "collapsed": false,
    "pycharm": {
     "name": "#%%\n"
    }
   }
  },
  {
   "cell_type": "code",
   "execution_count": 48,
   "outputs": [
    {
     "name": "stdout",
     "output_type": "stream",
     "text": [
      "à propos\n",
      "['a', '̀', ' ', 'p', 'r', 'o', 'p', 'o', 's']\n"
     ]
    }
   ],
   "source": [
    "# str 형식\n",
    "# 실제 내용을 출력하면 문자가 들어가 있다.\n",
    "a='a\\u0300 propos'\n",
    "print(a)\n",
    "print(list(a))"
   ],
   "metadata": {
    "collapsed": false,
    "pycharm": {
     "name": "#%%\n"
    }
   }
  },
  {
   "cell_type": "code",
   "execution_count": 49,
   "outputs": [],
   "source": [
    "# 문자열로 출력해주는 함수\n",
    "def to_str(bytes_or_str):\n",
    "    if isinstance(bytes_or_str, bytes):\n",
    "        value = bytes_or_str.decode('utf-8')\n",
    "    else:\n",
    "        value = bytes_or_str\n",
    "    return value"
   ],
   "metadata": {
    "collapsed": false,
    "pycharm": {
     "name": "#%%\n"
    }
   }
  },
  {
   "cell_type": "code",
   "execution_count": 50,
   "outputs": [
    {
     "data": {
      "text/plain": "'foo'"
     },
     "execution_count": 50,
     "metadata": {},
     "output_type": "execute_result"
    }
   ],
   "source": [
    "to_str(b'foo')"
   ],
   "metadata": {
    "collapsed": false,
    "pycharm": {
     "name": "#%%\n"
    }
   }
  },
  {
   "cell_type": "code",
   "execution_count": 51,
   "outputs": [
    {
     "data": {
      "text/plain": "'bar'"
     },
     "execution_count": 51,
     "metadata": {},
     "output_type": "execute_result"
    }
   ],
   "source": [
    "to_str('bar')"
   ],
   "metadata": {
    "collapsed": false,
    "pycharm": {
     "name": "#%%\n"
    }
   }
  },
  {
   "cell_type": "code",
   "execution_count": 52,
   "outputs": [
    {
     "data": {
      "text/plain": "'한'"
     },
     "execution_count": 52,
     "metadata": {},
     "output_type": "execute_result"
    }
   ],
   "source": [
    "to_str(b'\\xed\\x95\\x9c')"
   ],
   "metadata": {
    "collapsed": false,
    "pycharm": {
     "name": "#%%\n"
    }
   }
  },
  {
   "cell_type": "code",
   "execution_count": 53,
   "outputs": [],
   "source": [
    "#byte 타입으로 출력해 주는 함수\n",
    "def to_bytes(bytes_or_str):\n",
    "    if isinstance(bytes_or_str, str):\n",
    "        value = bytes_or_str.encode('utf-8')\n",
    "    else:\n",
    "        value = bytes_or_str\n",
    "    return value"
   ],
   "metadata": {
    "collapsed": false,
    "pycharm": {
     "name": "#%%\n"
    }
   }
  },
  {
   "cell_type": "code",
   "execution_count": 54,
   "outputs": [
    {
     "data": {
      "text/plain": "b'foo'"
     },
     "execution_count": 54,
     "metadata": {},
     "output_type": "execute_result"
    }
   ],
   "source": [
    "to_bytes(b'foo')"
   ],
   "metadata": {
    "collapsed": false,
    "pycharm": {
     "name": "#%%\n"
    }
   }
  },
  {
   "cell_type": "code",
   "execution_count": 55,
   "outputs": [
    {
     "data": {
      "text/plain": "b'bar'"
     },
     "execution_count": 55,
     "metadata": {},
     "output_type": "execute_result"
    }
   ],
   "source": [
    "to_bytes('bar')"
   ],
   "metadata": {
    "collapsed": false,
    "pycharm": {
     "name": "#%%\n"
    }
   }
  },
  {
   "cell_type": "code",
   "execution_count": 56,
   "outputs": [
    {
     "data": {
      "text/plain": "b'\\xed\\x95\\x9c'"
     },
     "execution_count": 56,
     "metadata": {},
     "output_type": "execute_result"
    }
   ],
   "source": [
    "to_bytes('한')"
   ],
   "metadata": {
    "collapsed": false,
    "pycharm": {
     "name": "#%%\n"
    }
   }
  },
  {
   "cell_type": "code",
   "execution_count": 59,
   "outputs": [
    {
     "ename": "TypeError",
     "evalue": "write() argument must be str, not bytes",
     "output_type": "error",
     "traceback": [
      "\u001B[1;31m---------------------------------------------------------------------------\u001B[0m",
      "\u001B[1;31mTypeError\u001B[0m                                 Traceback (most recent call last)",
      "Cell \u001B[1;32mIn [59], line 4\u001B[0m\n\u001B[0;32m      1\u001B[0m \u001B[38;5;66;03m# 오류가 발생하는 이유는?\u001B[39;00m\n\u001B[0;32m      2\u001B[0m \u001B[38;5;66;03m# binary type 인데 wb로 열지 않고 w로 열었기 때문이다.\u001B[39;00m\n\u001B[0;32m      3\u001B[0m \u001B[38;5;28;01mwith\u001B[39;00m \u001B[38;5;28mopen\u001B[39m(\u001B[38;5;124m'\u001B[39m\u001B[38;5;124mdata.bin\u001B[39m\u001B[38;5;124m'\u001B[39m, \u001B[38;5;124m'\u001B[39m\u001B[38;5;124mw\u001B[39m\u001B[38;5;124m'\u001B[39m) \u001B[38;5;28;01mas\u001B[39;00m f:\n\u001B[1;32m----> 4\u001B[0m     \u001B[43mf\u001B[49m\u001B[38;5;241;43m.\u001B[39;49m\u001B[43mwrite\u001B[49m\u001B[43m(\u001B[49m\u001B[38;5;124;43mb\u001B[39;49m\u001B[38;5;124;43m'\u001B[39;49m\u001B[38;5;130;43;01m\\xf1\u001B[39;49;00m\u001B[38;5;130;43;01m\\xf2\u001B[39;49;00m\u001B[38;5;130;43;01m\\xf3\u001B[39;49;00m\u001B[38;5;130;43;01m\\xf4\u001B[39;49;00m\u001B[38;5;130;43;01m\\xf5\u001B[39;49;00m\u001B[38;5;124;43m'\u001B[39;49m\u001B[43m)\u001B[49m\n",
      "\u001B[1;31mTypeError\u001B[0m: write() argument must be str, not bytes"
     ]
    }
   ],
   "source": [
    "# 오류가 발생하는 이유는?\n",
    "# binary type 인데 wb로 열지 않고 w로 열었기 때문이다.\n",
    "with open('data.bin', 'w') as f:\n",
    "    f.write(b'\\xf1\\xf2\\xf3\\xf4\\xf5')"
   ],
   "metadata": {
    "collapsed": false,
    "pycharm": {
     "name": "#%%\n"
    }
   }
  },
  {
   "cell_type": "code",
   "execution_count": 61,
   "outputs": [],
   "source": [
    "with open('out/data.bin', 'wb') as f:\n",
    "    f.write(b'\\xf1\\xf2\\xf3\\xf4\\xf5')"
   ],
   "metadata": {
    "collapsed": false,
    "pycharm": {
     "name": "#%%\n"
    }
   }
  },
  {
   "cell_type": "code",
   "execution_count": 63,
   "outputs": [
    {
     "ename": "UnicodeDecodeError",
     "evalue": "'cp949' codec can't decode byte 0xf5 in position 4: incomplete multibyte sequence",
     "output_type": "error",
     "traceback": [
      "\u001B[1;31m---------------------------------------------------------------------------\u001B[0m",
      "\u001B[1;31mUnicodeDecodeError\u001B[0m                        Traceback (most recent call last)",
      "Cell \u001B[1;32mIn [63], line 2\u001B[0m\n\u001B[0;32m      1\u001B[0m \u001B[38;5;28;01mwith\u001B[39;00m \u001B[38;5;28mopen\u001B[39m(\u001B[38;5;124m'\u001B[39m\u001B[38;5;124mout/data.bin\u001B[39m\u001B[38;5;124m'\u001B[39m, \u001B[38;5;124m'\u001B[39m\u001B[38;5;124mr\u001B[39m\u001B[38;5;124m'\u001B[39m) \u001B[38;5;28;01mas\u001B[39;00m f:\n\u001B[1;32m----> 2\u001B[0m     data \u001B[38;5;241m=\u001B[39m \u001B[43mf\u001B[49m\u001B[38;5;241;43m.\u001B[39;49m\u001B[43mread\u001B[49m\u001B[43m(\u001B[49m\u001B[43m)\u001B[49m\n",
      "\u001B[1;31mUnicodeDecodeError\u001B[0m: 'cp949' codec can't decode byte 0xf5 in position 4: incomplete multibyte sequence"
     ]
    }
   ],
   "source": [
    "with open('out/data.bin', 'r') as f:\n",
    "    data = f.read()"
   ],
   "metadata": {
    "collapsed": false,
    "pycharm": {
     "name": "#%%\n"
    }
   }
  },
  {
   "cell_type": "code",
   "execution_count": 69,
   "outputs": [
    {
     "name": "stdout",
     "output_type": "stream",
     "text": [
      "b'\\xf1\\xf2\\xf3\\xf4\\xf5'\n"
     ]
    }
   ],
   "source": [
    "with open('out/data.bin', 'rb') as f:\n",
    "    data2 = f.read()\n",
    "\n",
    "print(data2)"
   ],
   "metadata": {
    "collapsed": false,
    "pycharm": {
     "name": "#%%\n"
    }
   }
  },
  {
   "cell_type": "code",
   "execution_count": 79,
   "outputs": [
    {
     "name": "stdout",
     "output_type": "stream",
     "text": [
      "ñòóôõ\n"
     ]
    }
   ],
   "source": [
    "#저장은 binary로 했는데\n",
    "#읽을때는 문자열로 읽은 다음에 cp1252로 인코딩하였다.\n",
    "with open('out/data.bin', 'r', encoding='cp1252') as f:\n",
    "    data2 = f.read()\n",
    "\n",
    "print(data2)"
   ],
   "metadata": {
    "collapsed": false,
    "pycharm": {
     "name": "#%%\n"
    }
   }
  },
  {
   "cell_type": "code",
   "execution_count": 66,
   "outputs": [],
   "source": [
    "#시스템 인코딩 검사"
   ],
   "metadata": {
    "collapsed": false,
    "pycharm": {
     "name": "#%%\n"
    }
   }
  },
  {
   "cell_type": "code",
   "execution_count": 67,
   "outputs": [
    {
     "name": "stdout",
     "output_type": "stream",
     "text": [
      "cp949\n"
     ]
    }
   ],
   "source": [
    "import locale\n",
    "print(locale.getpreferredencoding())"
   ],
   "metadata": {
    "collapsed": false,
    "pycharm": {
     "name": "#%%\n"
    }
   }
  },
  {
   "cell_type": "code",
   "execution_count": null,
   "outputs": [],
   "source": [],
   "metadata": {
    "collapsed": false,
    "pycharm": {
     "name": "#%%\n"
    }
   }
  }
 ],
 "metadata": {
  "kernelspec": {
   "display_name": "Python 3",
   "language": "python",
   "name": "python3"
  },
  "language_info": {
   "codemirror_mode": {
    "name": "ipython",
    "version": 2
   },
   "file_extension": ".py",
   "mimetype": "text/x-python",
   "name": "python",
   "nbconvert_exporter": "python",
   "pygments_lexer": "ipython2",
   "version": "2.7.6"
  }
 },
 "nbformat": 4,
 "nbformat_minor": 0
}