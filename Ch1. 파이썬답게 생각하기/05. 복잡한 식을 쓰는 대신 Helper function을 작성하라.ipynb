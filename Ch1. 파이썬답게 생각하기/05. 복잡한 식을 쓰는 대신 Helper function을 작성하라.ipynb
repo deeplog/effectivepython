{
 "cells": [
  {
   "cell_type": "markdown",
   "source": [
    "### 요약\n",
    "* 같은 로직을 반복해야 할 때, DRY 원칙을 지킬 것"
   ],
   "metadata": {
    "collapsed": false,
    "pycharm": {
     "name": "#%% md\n"
    }
   }
  },
  {
   "cell_type": "code",
   "execution_count": 1,
   "outputs": [
    {
     "name": "stdout",
     "output_type": "stream",
     "text": [
      "{'red': ['5'], 'blue': ['0'], 'green': ['']}\n"
     ]
    }
   ],
   "source": [
    "#my_values 데이터 입력\n",
    "from urllib.parse import parse_qs\n",
    "\n",
    "my_values = parse_qs('red=5&blue=0&green=', keep_blank_values=True)\n",
    "print(my_values)"
   ],
   "metadata": {
    "collapsed": false,
    "pycharm": {
     "name": "#%%\n"
    }
   }
  },
  {
   "cell_type": "code",
   "execution_count": 13,
   "outputs": [
    {
     "name": "stdout",
     "output_type": "stream",
     "text": [
      "red ['5']\n",
      "blue ['0']\n",
      "opacity None\n"
     ]
    }
   ],
   "source": [
    "# 파라미터가 없으면 0으로 반환하게 하고 싶다.\n",
    "print('red',my_values.get('red'))\n",
    "print('blue',my_values.get('blue'))\n",
    "print('opacity',my_values.get('opacity'))"
   ],
   "metadata": {
    "collapsed": false,
    "pycharm": {
     "name": "#%%\n"
    }
   }
  },
  {
   "cell_type": "code",
   "execution_count": 29,
   "outputs": [
    {
     "name": "stdout",
     "output_type": "stream",
     "text": [
      "5\n",
      "0\n",
      "0\n"
     ]
    }
   ],
   "source": [
    "# 해결1. 빈문자열로 반환하는 경우 0 으로 반환 처리\n",
    "# 문제점: 읽기 어렵고 이해하기 쉽지 않다.\n",
    "red = my_values.get('red',[''])[0] or 0\n",
    "green = my_values.get('green',[''])[0] or 0\n",
    "opacity = my_values.get('opacity',[''])[0] or 0\n",
    "print(red)\n",
    "print(green)\n",
    "print(opacity)"
   ],
   "metadata": {
    "collapsed": false,
    "pycharm": {
     "name": "#%%\n"
    }
   }
  },
  {
   "cell_type": "code",
   "execution_count": null,
   "outputs": [],
   "source": [
    "# 해결2. 두단계로 분리해서 코드를 작성한다.\n",
    "# if/else문이 복잡한다.\n",
    "red_str = my_values.get('red',[''])[0]\n",
    "red = int(red_str[0]) if red_str[0] else 0"
   ],
   "metadata": {
    "collapsed": false,
    "pycharm": {
     "name": "#%%\n"
    }
   }
  },
  {
   "cell_type": "code",
   "execution_count": 32,
   "outputs": [
    {
     "name": "stdout",
     "output_type": "stream",
     "text": [
      "5\n"
     ]
    }
   ],
   "source": [
    "# 해결3. if/else 코드를 풀어서 쓴다.\n",
    "# 다른 색깔에 대해서 코드가 반복이 된다.\n",
    "red_str = my_values.get('red',[''])\n",
    "if red_str[0]:\n",
    "    red = int(red_str[0])\n",
    "else:\n",
    "    red = 0\n",
    "print(red)"
   ],
   "metadata": {
    "collapsed": false,
    "pycharm": {
     "name": "#%%\n"
    }
   }
  },
  {
   "cell_type": "code",
   "execution_count": 12,
   "outputs": [
    {
     "name": "stdout",
     "output_type": "stream",
     "text": [
      "0\n",
      "5\n",
      "0\n"
     ]
    }
   ],
   "source": [
    "#해결4. helper 함수를 작성한다.\n",
    "# DRY (don't repeat yourself)\n",
    "def get_first_int(values, key, default =0):\n",
    "    found = values.get(key, [''])\n",
    "    if found[0]:\n",
    "        return int(found[0])\n",
    "    return default\n",
    "\n",
    "green = get_first_int(my_values, 'green')\n",
    "red = get_first_int(my_values,'red')\n",
    "opacity = get_first_int(my_values,'opacity')\n",
    "print(green)\n",
    "print(red)\n",
    "print(opacity)"
   ],
   "metadata": {
    "collapsed": false,
    "pycharm": {
     "name": "#%%\n"
    }
   }
  },
  {
   "cell_type": "code",
   "execution_count": null,
   "outputs": [],
   "source": [],
   "metadata": {
    "collapsed": false,
    "pycharm": {
     "name": "#%%\n"
    }
   }
  }
 ],
 "metadata": {
  "kernelspec": {
   "display_name": "Python 3",
   "language": "python",
   "name": "python3"
  },
  "language_info": {
   "codemirror_mode": {
    "name": "ipython",
    "version": 2
   },
   "file_extension": ".py",
   "mimetype": "text/x-python",
   "name": "python",
   "nbconvert_exporter": "python",
   "pygments_lexer": "ipython2",
   "version": "2.7.6"
  }
 },
 "nbformat": 4,
 "nbformat_minor": 0
}