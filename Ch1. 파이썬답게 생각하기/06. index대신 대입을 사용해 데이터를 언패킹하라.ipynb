{
 "cells": [
  {
   "cell_type": "markdown",
   "source": [
    "### Unpacking이란?\n",
    "* 패킹된 값을 변수로 나누는 것\n",
    "* 튜플 인덱스를 사용하는 것보다 시각적인 잡음이 적다\n",
    "    ```\n",
    "    a, b =['a1','b1']\n",
    "    print(a)\n",
    "    print(b)\n",
    "    ```"
   ],
   "metadata": {
    "collapsed": false,
    "pycharm": {
     "name": "#%% md\n"
    }
   }
  },
  {
   "cell_type": "code",
   "execution_count": 5,
   "outputs": [
    {
     "name": "stdout",
     "output_type": "stream",
     "text": [
      "#1: 베이컨은 350 칼로리 입니다.\n",
      "#2: 도넛은 240 칼로리 입니다.\n",
      "#3: 머핀은 190 칼로리 입니다.\n"
     ]
    }
   ],
   "source": [
    "# 문제점\n",
    "# 잘 작동은 하지만 불 필요하게 코드가 길어지는 단점이 있다.\n",
    "snacks =[('베이컨',350), ('도넛',240), ('머핀',190)]\n",
    "for i in range(len(snacks)):\n",
    "    item = snacks[i]\n",
    "    name = item[0]\n",
    "    calories = item[1]\n",
    "    print(f'#{i+1}: {name}은 {calories} 칼로리 입니다.')"
   ],
   "metadata": {
    "collapsed": false,
    "pycharm": {
     "name": "#%%\n"
    }
   }
  },
  {
   "cell_type": "code",
   "execution_count": 10,
   "outputs": [
    {
     "name": "stdout",
     "output_type": "stream",
     "text": [
      "#1: 베이컨은 350 칼로리 입니다.\n",
      "#2: 도넛은 240 칼로리 입니다.\n",
      "#3: 머핀은 190 칼로리 입니다.\n"
     ]
    }
   ],
   "source": [
    "#해결책\n",
    "#인덱스를 사용하지 않고 enumerate와 할당으로 문제를 해결했다.\n",
    "#이렇게 하는 것이 파이썬다운 방식이다.\n",
    "snacks =[('베이컨',350), ('도넛',240), ('머핀',190)]\n",
    "for rank, (name, calories) in enumerate(snacks,start=1): #rank를 1로 시작하게 한다.\n",
    "    print(f'#{rank}: {name}은 {calories} 칼로리 입니다.')"
   ],
   "metadata": {
    "collapsed": false,
    "pycharm": {
     "name": "#%%\n"
    }
   }
  }
 ],
 "metadata": {
  "kernelspec": {
   "display_name": "Python 3",
   "language": "python",
   "name": "python3"
  },
  "language_info": {
   "codemirror_mode": {
    "name": "ipython",
    "version": 2
   },
   "file_extension": ".py",
   "mimetype": "text/x-python",
   "name": "python",
   "nbconvert_exporter": "python",
   "pygments_lexer": "ipython2",
   "version": "2.7.6"
  }
 },
 "nbformat": 4,
 "nbformat_minor": 0
}