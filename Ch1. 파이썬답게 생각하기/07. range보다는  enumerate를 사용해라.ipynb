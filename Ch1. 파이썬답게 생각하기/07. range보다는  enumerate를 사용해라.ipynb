{
 "cells": [
  {
   "cell_type": "code",
   "execution_count": 25,
   "outputs": [],
   "source": [
    "flavor_list =['바닐라','초콜렛','피칸','딸기']"
   ],
   "metadata": {
    "collapsed": false,
    "pycharm": {
     "name": "#%%\n"
    }
   }
  },
  {
   "cell_type": "code",
   "execution_count": 28,
   "outputs": [
    {
     "name": "stdout",
     "output_type": "stream",
     "text": [
      "바닐라 맛있어요\n",
      "초콜렛 맛있어요\n",
      "피칸 맛있어요\n",
      "딸기 맛있어요\n"
     ]
    }
   ],
   "source": [
    "# 순회하기\n",
    "# 몇번째 원소인지 알소 싶다?\n",
    "for flavor in flavor_list:\n",
    "    print(f'{flavor} 맛있어요')"
   ],
   "metadata": {
    "collapsed": false,
    "pycharm": {
     "name": "#%%\n"
    }
   }
  },
  {
   "cell_type": "code",
   "execution_count": 30,
   "outputs": [
    {
     "name": "stdout",
     "output_type": "stream",
     "text": [
      "1: 바닐라\n",
      "2: 초콜렛\n",
      "3: 피칸\n",
      "4: 딸기\n"
     ]
    }
   ],
   "source": [
    "# 방법1. range 사용\n",
    "# 문제점, list의 길이를 알아 내야 하고, 인덱스를 사용해 원소를 접근해야 한다.\n",
    "# 결과적으로 가독성이 떨어지는 코드가 된다.\n",
    "for i in range(len(flavor_list)):\n",
    "    flavor = flavor_list[i]\n",
    "    print(f'{i+1}: {flavor}')"
   ],
   "metadata": {
    "collapsed": false,
    "pycharm": {
     "name": "#%%\n"
    }
   }
  },
  {
   "cell_type": "code",
   "execution_count": 32,
   "outputs": [
    {
     "name": "stdout",
     "output_type": "stream",
     "text": [
      "1:바닐라\n",
      "2:초콜렛\n",
      "3:피칸\n",
      "4:딸기\n"
     ]
    }
   ],
   "source": [
    "# 방법2. enumerate 사용\n",
    "for i, flavor in enumerate(flavor_list,1):\n",
    "    print(f'{i}:{flavor}')"
   ],
   "metadata": {
    "collapsed": false,
    "pycharm": {
     "name": "#%%\n"
    }
   }
  }
 ],
 "metadata": {
  "kernelspec": {
   "display_name": "Python 3",
   "language": "python",
   "name": "python3"
  },
  "language_info": {
   "codemirror_mode": {
    "name": "ipython",
    "version": 2
   },
   "file_extension": ".py",
   "mimetype": "text/x-python",
   "name": "python",
   "nbconvert_exporter": "python",
   "pygments_lexer": "ipython2",
   "version": "2.7.6"
  }
 },
 "nbformat": 4,
 "nbformat_minor": 0
}