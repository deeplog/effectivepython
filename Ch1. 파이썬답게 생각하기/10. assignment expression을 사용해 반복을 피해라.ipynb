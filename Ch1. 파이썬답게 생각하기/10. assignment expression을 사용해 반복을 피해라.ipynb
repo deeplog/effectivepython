{
 "cells": [
  {
   "cell_type": "markdown",
   "source": [
    "### assignment expression\n",
    "* python3.8에서 도입된 구문"
   ],
   "metadata": {
    "collapsed": false,
    "pycharm": {
     "name": "#%% md\n"
    }
   }
  },
  {
   "cell_type": "code",
   "execution_count": 6,
   "outputs": [],
   "source": [
    "fresh_fruit = {\n",
    "    '사과': 10,\n",
    "    '바나나': 8,\n",
    "    '레몬': 5,\n",
    "}\n",
    "\n",
    "def make_lemonade(count):\n",
    "    print(f'{count}개의 레모네이드를 만들었습니다.')\n",
    "\n",
    "def out_of_stock():\n",
    "    print('품절입니다.')"
   ],
   "metadata": {
    "collapsed": false,
    "pycharm": {
     "name": "#%%\n"
    }
   }
  },
  {
   "cell_type": "code",
   "execution_count": 7,
   "outputs": [
    {
     "name": "stdout",
     "output_type": "stream",
     "text": [
      "5개의 레모네이드를 만들었습니다.\n"
     ]
    }
   ],
   "source": [
    "# 이 코드의 문제점은?\n",
    "# 불필요한 코드 : count\n",
    "count = fresh_fruit.get('레몬',0)\n",
    "if count:\n",
    "    make_lemonade(count)\n",
    "else:\n",
    "    out_of_stock()"
   ],
   "metadata": {
    "collapsed": false,
    "pycharm": {
     "name": "#%%\n"
    }
   }
  },
  {
   "cell_type": "code",
   "execution_count": 9,
   "outputs": [
    {
     "name": "stdout",
     "output_type": "stream",
     "text": [
      "5개의 레모네이드를 만들었습니다.\n"
     ]
    }
   ],
   "source": [
    "# 불필요한 중복 해결\n",
    "# 조건을 위해 값을 입력하고 그 값을 평가하는데 assignment expression 을 사용한다.\n",
    "if count:=fresh_fruit.get('레몬',0):\n",
    "    make_lemonade(count)\n",
    "else:\n",
    "    out_of_stock()"
   ],
   "metadata": {
    "collapsed": false,
    "pycharm": {
     "name": "#%%\n"
    }
   }
  }
 ],
 "metadata": {
  "kernelspec": {
   "display_name": "Python 3",
   "language": "python",
   "name": "python3"
  },
  "language_info": {
   "codemirror_mode": {
    "name": "ipython",
    "version": 2
   },
   "file_extension": ".py",
   "mimetype": "text/x-python",
   "name": "python",
   "nbconvert_exporter": "python",
   "pygments_lexer": "ipython2",
   "version": "2.7.6"
  }
 },
 "nbformat": 4,
 "nbformat_minor": 0
}