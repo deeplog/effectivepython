{
 "cells": [
  {
   "cell_type": "markdown",
   "source": [
    "### 중요\n",
    "* [시작:끝:증가값]\n",
    "* 3개의 옵션중에 2개까지만 사용해라\n",
    "* 시작,끝,증가값을 함께 지정하면 혼돈하기 쉽다."
   ],
   "metadata": {
    "collapsed": false,
    "pycharm": {
     "name": "#%% md\n"
    }
   }
  },
  {
   "cell_type": "code",
   "execution_count": 1,
   "outputs": [
    {
     "name": "stdout",
     "output_type": "stream",
     "text": [
      "['빨강', '노랑', '파랑', '보라']\n",
      "['주황', '초록', '남색']\n"
     ]
    }
   ],
   "source": [
    "x=['빨강','주황','노랑','초록','파랑','남색','보라']\n",
    "print(x[::2])\n",
    "print(x[1::2])"
   ],
   "metadata": {
    "collapsed": false,
    "pycharm": {
     "name": "#%%\n"
    }
   }
  },
  {
   "cell_type": "code",
   "execution_count": 2,
   "outputs": [
    {
     "name": "stdout",
     "output_type": "stream",
     "text": [
      "b'esoognom'\n"
     ]
    }
   ],
   "source": [
    "#byte\n",
    "x=b'mongoose'\n",
    "print(x[::-1])"
   ],
   "metadata": {
    "collapsed": false,
    "pycharm": {
     "name": "#%%\n"
    }
   }
  },
  {
   "cell_type": "code",
   "execution_count": 3,
   "outputs": [
    {
     "name": "stdout",
     "output_type": "stream",
     "text": [
      "밥초\n"
     ]
    }
   ],
   "source": [
    "#unicode\n",
    "x='초밥'\n",
    "print(x[::-1])"
   ],
   "metadata": {
    "collapsed": false,
    "pycharm": {
     "name": "#%%\n"
    }
   }
  },
  {
   "cell_type": "code",
   "execution_count": 9,
   "outputs": [
    {
     "ename": "UnicodeDecodeError",
     "evalue": "'utf-8' codec can't decode byte 0xa5 in position 0: invalid start byte",
     "output_type": "error",
     "traceback": [
      "\u001B[1;31m---------------------------------------------------------------------------\u001B[0m",
      "\u001B[1;31mUnicodeDecodeError\u001B[0m                        Traceback (most recent call last)",
      "Cell \u001B[1;32mIn [9], line 7\u001B[0m\n\u001B[0;32m      5\u001B[0m y\u001B[38;5;241m=\u001B[39mx[::\u001B[38;5;241m-\u001B[39m\u001B[38;5;241m1\u001B[39m]\n\u001B[0;32m      6\u001B[0m \u001B[38;5;66;03m#print(y)\u001B[39;00m\n\u001B[1;32m----> 7\u001B[0m z\u001B[38;5;241m=\u001B[39m\u001B[43my\u001B[49m\u001B[38;5;241;43m.\u001B[39;49m\u001B[43mdecode\u001B[49m\u001B[43m(\u001B[49m\u001B[38;5;124;43m'\u001B[39;49m\u001B[38;5;124;43mutf-8\u001B[39;49m\u001B[38;5;124;43m'\u001B[39;49m\u001B[43m)\u001B[49m\n\u001B[0;32m      8\u001B[0m \u001B[38;5;28mprint\u001B[39m(z)\n",
      "\u001B[1;31mUnicodeDecodeError\u001B[0m: 'utf-8' codec can't decode byte 0xa5 in position 0: invalid start byte"
     ]
    }
   ],
   "source": [
    "# unicode를 바이트로 바꾼다음 역순으로 하면 안됨\n",
    "# 그런데 만약 'abc123'이라면?\n",
    "x='초밥'.encode('utf-8')\n",
    "#print(x)\n",
    "y=x[::-1]\n",
    "#print(y)\n",
    "z=y.decode('utf-8')\n",
    "print(z)"
   ],
   "metadata": {
    "collapsed": false,
    "pycharm": {
     "name": "#%%\n"
    }
   }
  },
  {
   "cell_type": "code",
   "execution_count": 14,
   "outputs": [
    {
     "name": "stdout",
     "output_type": "stream",
     "text": [
      "['노랑', '파랑', '보라']\n",
      "['남색', '초록', '주황']\n",
      "['남색', '초록']\n"
     ]
    }
   ],
   "source": [
    "x=['빨강','주황','노랑','초록','파랑','남색','보라']\n",
    "print(x[2::2])\n",
    "print(x[-2::-2])\n",
    "print(x[-2:2:-2]) #이해하기 어려운 코드이다"
   ],
   "metadata": {
    "collapsed": false,
    "pycharm": {
     "name": "#%%\n"
    }
   }
  }
 ],
 "metadata": {
  "kernelspec": {
   "display_name": "Python 3",
   "language": "python",
   "name": "python3"
  },
  "language_info": {
   "codemirror_mode": {
    "name": "ipython",
    "version": 2
   },
   "file_extension": ".py",
   "mimetype": "text/x-python",
   "name": "python",
   "nbconvert_exporter": "python",
   "pygments_lexer": "ipython2",
   "version": "2.7.6"
  }
 },
 "nbformat": 4,
 "nbformat_minor": 0
}