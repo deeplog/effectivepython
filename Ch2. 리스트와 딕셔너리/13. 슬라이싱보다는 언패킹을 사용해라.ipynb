{
 "cells": [
  {
   "cell_type": "markdown",
   "source": [
    "### 언패킹\n",
    "* 언패킹을 사용하면 나머지 부분을 모두 리스트로 잡아낼 수 있다.\n",
    "* 언패킹을 사용하면 실수할 수 있는 여지가 줄어든다"
   ],
   "metadata": {
    "collapsed": false,
    "pycharm": {
     "name": "#%% md\n"
    }
   }
  },
  {
   "cell_type": "code",
   "execution_count": 12,
   "outputs": [
    {
     "ename": "ValueError",
     "evalue": "too many values to unpack (expected 2)",
     "output_type": "error",
     "traceback": [
      "\u001B[1;31m---------------------------------------------------------------------------\u001B[0m",
      "\u001B[1;31mValueError\u001B[0m                                Traceback (most recent call last)",
      "Cell \u001B[1;32mIn [12], line 6\u001B[0m\n\u001B[0;32m      4\u001B[0m car_ages \u001B[38;5;241m=\u001B[39m [\u001B[38;5;241m0\u001B[39m,\u001B[38;5;241m9\u001B[39m,\u001B[38;5;241m4\u001B[39m,\u001B[38;5;241m8\u001B[39m,\u001B[38;5;241m7\u001B[39m,\u001B[38;5;241m20\u001B[39m,\u001B[38;5;241m19\u001B[39m,\u001B[38;5;241m1\u001B[39m,\u001B[38;5;241m6\u001B[39m,\u001B[38;5;241m15\u001B[39m]\n\u001B[0;32m      5\u001B[0m car_ages_descending \u001B[38;5;241m=\u001B[39m \u001B[38;5;28msorted\u001B[39m(car_ages, reverse\u001B[38;5;241m=\u001B[39m\u001B[38;5;28;01mTrue\u001B[39;00m)\n\u001B[1;32m----> 6\u001B[0m oldest, second_oldest \u001B[38;5;241m=\u001B[39m car_ages_descending\n",
      "\u001B[1;31mValueError\u001B[0m: too many values to unpack (expected 2)"
     ]
    }
   ],
   "source": [
    "# 다음과 같은 상황을 고려해 보자\n",
    "# 에러가 발생한다\n",
    "# 어떻게 해결하겠는가?\n",
    "car_ages = [0,9,4,8,7,20,19,1,6,15]\n",
    "car_ages_descending = sorted(car_ages, reverse=True)\n",
    "oldest, second_oldest = car_ages_descending"
   ],
   "metadata": {
    "collapsed": false,
    "pycharm": {
     "name": "#%%\n"
    }
   }
  },
  {
   "cell_type": "code",
   "execution_count": 13,
   "outputs": [
    {
     "name": "stdout",
     "output_type": "stream",
     "text": [
      "20 19 [15, 9, 8, 7, 6, 4, 1, 0]\n"
     ]
    }
   ],
   "source": [
    "# 해결책1. index를 활용한다.\n",
    "# 문제점: index를 벗어나는 오류가 발생할 수 있다.\n",
    "oldest = car_ages_descending[0]\n",
    "second_oldest = car_ages_descending[1]\n",
    "others = car_ages_descending[2:]\n",
    "print(oldest, second_oldest, others)"
   ],
   "metadata": {
    "collapsed": false,
    "pycharm": {
     "name": "#%%\n"
    }
   }
  },
  {
   "cell_type": "code",
   "execution_count": 15,
   "outputs": [
    {
     "name": "stdout",
     "output_type": "stream",
     "text": [
      "20 19 [15, 9, 8, 7, 6, 4, 1, 0]\n"
     ]
    }
   ],
   "source": [
    "# 해결책2. starred expression을 활용한다.\n",
    "# 오류가 발생할 위험을 최소화한다.\n",
    "car_ages_descending = sorted(car_ages, reverse=True)\n",
    "oldest, second_oldest, *others = car_ages_descending\n",
    "print(oldest, second_oldest, others)"
   ],
   "metadata": {
    "collapsed": false,
    "pycharm": {
     "name": "#%%\n"
    }
   }
  },
  {
   "cell_type": "code",
   "execution_count": 16,
   "outputs": [
    {
     "name": "stdout",
     "output_type": "stream",
     "text": [
      "20 [19, 15, 9, 8, 7, 6, 4, 1] 0\n"
     ]
    }
   ],
   "source": [
    "# 심지어 위치를 바꿀수도 있다.\n",
    "oldest, *others, youngest = car_ages_descending\n",
    "print(oldest, others, youngest)"
   ],
   "metadata": {
    "collapsed": false,
    "pycharm": {
     "name": "#%%\n"
    }
   }
  },
  {
   "cell_type": "code",
   "execution_count": 19,
   "outputs": [
    {
     "name": "stdout",
     "output_type": "stream",
     "text": [
      "시내 최고는 그랜저,  나머지는 2종 \n",
      "공항 최고는 제네시스 쿠페,  나머지는 3종 \n"
     ]
    }
   ],
   "source": [
    "# 별표식을 이용하면 이런 것도 가능하다.\n",
    "car_inventory ={\n",
    "    '시내': ('그랜저','아반테','티코'),\n",
    "    '공항': ('제네시스 쿠페','소나타','K5', '엑센트'),\n",
    "}\n",
    "\n",
    "((loc1, (best1, *rest1)),\n",
    " (loc2, (best2, *rest2)))=car_inventory.items()\n",
    "\n",
    "print(f'{loc1} 최고는 {best1},  나머지는 {len(rest1)}종 ')\n",
    "print(f'{loc2} 최고는 {best2},  나머지는 {len(rest2)}종 ')"
   ],
   "metadata": {
    "collapsed": false,
    "pycharm": {
     "name": "#%%\n"
    }
   }
  }
 ],
 "metadata": {
  "kernelspec": {
   "display_name": "Python 3",
   "language": "python",
   "name": "python3"
  },
  "language_info": {
   "codemirror_mode": {
    "name": "ipython",
    "version": 2
   },
   "file_extension": ".py",
   "mimetype": "text/x-python",
   "name": "python",
   "nbconvert_exporter": "python",
   "pygments_lexer": "ipython2",
   "version": "2.7.6"
  }
 },
 "nbformat": 4,
 "nbformat_minor": 0
}