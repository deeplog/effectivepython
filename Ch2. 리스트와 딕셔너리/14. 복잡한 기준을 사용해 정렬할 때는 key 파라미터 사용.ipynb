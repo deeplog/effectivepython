{
 "cells": [
  {
   "cell_type": "code",
   "execution_count": 1,
   "outputs": [
    {
     "name": "stdout",
     "output_type": "stream",
     "text": [
      "[11, 68, 70, 86, 93]\n"
     ]
    }
   ],
   "source": [
    "# 리스트를 정렬하기\n",
    "# 일반적인 경우이다. 특별한 경우는?\n",
    "numbers = [93, 86, 11, 68, 70]\n",
    "numbers.sort()\n",
    "print(numbers)"
   ],
   "metadata": {
    "collapsed": false,
    "pycharm": {
     "name": "#%%\n"
    }
   }
  },
  {
   "cell_type": "code",
   "execution_count": 6,
   "outputs": [
    {
     "ename": "TypeError",
     "evalue": "'<' not supported between instances of 'Tool' and 'Tool'",
     "output_type": "error",
     "traceback": [
      "\u001B[1;31m---------------------------------------------------------------------------\u001B[0m",
      "\u001B[1;31mTypeError\u001B[0m                                 Traceback (most recent call last)",
      "Cell \u001B[1;32mIn [6], line 18\u001B[0m\n\u001B[0;32m      9\u001B[0m         \u001B[38;5;28;01mreturn\u001B[39;00m \u001B[38;5;124mf\u001B[39m\u001B[38;5;124m'\u001B[39m\u001B[38;5;124mTool(\u001B[39m\u001B[38;5;132;01m{\u001B[39;00m\u001B[38;5;28mself\u001B[39m\u001B[38;5;241m.\u001B[39mname\u001B[38;5;132;01m!r}\u001B[39;00m\u001B[38;5;124m, \u001B[39m\u001B[38;5;132;01m{\u001B[39;00m\u001B[38;5;28mself\u001B[39m\u001B[38;5;241m.\u001B[39mweight\u001B[38;5;132;01m}\u001B[39;00m\u001B[38;5;124m)\u001B[39m\u001B[38;5;124m'\u001B[39m\n\u001B[0;32m     11\u001B[0m tools \u001B[38;5;241m=\u001B[39m [\n\u001B[0;32m     12\u001B[0m     Tool(\u001B[38;5;124m'\u001B[39m\u001B[38;5;124m수준계\u001B[39m\u001B[38;5;124m'\u001B[39m, \u001B[38;5;241m3.5\u001B[39m),\n\u001B[0;32m     13\u001B[0m     Tool(\u001B[38;5;124m'\u001B[39m\u001B[38;5;124mhammar\u001B[39m\u001B[38;5;124m'\u001B[39m, \u001B[38;5;241m1.25\u001B[39m),\n\u001B[0;32m     14\u001B[0m     Tool(\u001B[38;5;124m'\u001B[39m\u001B[38;5;124mscrewdriver\u001B[39m\u001B[38;5;124m'\u001B[39m,\u001B[38;5;241m0.5\u001B[39m),\n\u001B[0;32m     15\u001B[0m     Tool(\u001B[38;5;124m'\u001B[39m\u001B[38;5;124m끌\u001B[39m\u001B[38;5;124m'\u001B[39m,\u001B[38;5;241m0.25\u001B[39m),\n\u001B[0;32m     16\u001B[0m ]\n\u001B[1;32m---> 18\u001B[0m \u001B[43mtools\u001B[49m\u001B[38;5;241;43m.\u001B[39;49m\u001B[43msort\u001B[49m\u001B[43m(\u001B[49m\u001B[43m)\u001B[49m\n\u001B[0;32m     19\u001B[0m \u001B[38;5;66;03m#tools.sort(key=lambda x:x.weight)\u001B[39;00m\n\u001B[0;32m     20\u001B[0m \u001B[38;5;28mprint\u001B[39m(tools)\n",
      "\u001B[1;31mTypeError\u001B[0m: '<' not supported between instances of 'Tool' and 'Tool'"
     ]
    }
   ],
   "source": [
    "# 클래스는 어떻게 소팅할 것인가?\n",
    "# key 파라미터를 활용한다.\n",
    "class Tool:\n",
    "    def __init__(self, name, weight):\n",
    "        self.name = name\n",
    "        self.weight = weight\n",
    "\n",
    "    def __repr__(self):\n",
    "        return f'Tool({self.name!r}, {self.weight})'\n",
    "\n",
    "tools = [\n",
    "    Tool('수준계', 3.5),\n",
    "    Tool('hammar', 1.25),\n",
    "    Tool('screwdriver',0.5),\n",
    "    Tool('끌',0.25),\n",
    "]\n",
    "\n",
    "tools.sort()\n",
    "#tools.sort(key=lambda x:x.weight)\n",
    "print(tools)"
   ],
   "metadata": {
    "collapsed": false,
    "pycharm": {
     "name": "#%%\n"
    }
   }
  },
  {
   "cell_type": "code",
   "execution_count": 9,
   "outputs": [
    {
     "name": "stdout",
     "output_type": "stream",
     "text": [
      "['New york', 'Paris', 'home', 'work']\n",
      "['home', 'New york', 'Paris', 'work']\n"
     ]
    }
   ],
   "source": [
    "#소문자로 원소값을 변경해서 소팅하고 싶다. 어떻게 해야 하는가?\n",
    "#이때도 key를 활용한다.\n",
    "places =['home', 'work', 'New york', 'Paris']\n",
    "places.sort()\n",
    "print(places)\n",
    "places.sort(key = lambda x:x.lower())\n",
    "print(places)"
   ],
   "metadata": {
    "collapsed": false,
    "pycharm": {
     "name": "#%%\n"
    }
   }
  },
  {
   "cell_type": "code",
   "execution_count": 34,
   "outputs": [
    {
     "name": "stdout",
     "output_type": "stream",
     "text": [
      "[Tool('착암기', 40), Tool('원형톱', 5), Tool('연마기', 4), Tool('드릴', 4)]\n"
     ]
    }
   ],
   "source": [
    "#다중정렬을 하고 싶다. 어떻게 해야 하는가?\n",
    "#튜플을 활용한다.\n",
    "\n",
    "power_tools = [\n",
    "    Tool('드릴', 4),\n",
    "    Tool('원형톱', 5),\n",
    "    Tool('착암기', 40),\n",
    "    Tool('연마기', 4),\n",
    "]\n",
    "\n",
    "power_tools.sort(key=lambda x:(x.weight, x.name),\n",
    "                 reverse=True)\n",
    "print(power_tools)"
   ],
   "metadata": {
    "collapsed": false,
    "pycharm": {
     "name": "#%%\n"
    }
   }
  },
  {
   "cell_type": "code",
   "execution_count": 35,
   "outputs": [
    {
     "name": "stdout",
     "output_type": "stream",
     "text": [
      "[Tool('착암기', 40), Tool('원형톱', 5), Tool('드릴', 4), Tool('연마기', 4)]\n"
     ]
    }
   ],
   "source": [
    "# 다중정렬을 하면서도 정렬순서를 서로 다르게 가져가고 싶다.\n",
    "# 두번 정렬을 한다.\n",
    "# 사용하기 쉽지 않다.\n",
    "\n",
    "power_tools.sort(key=lambda x:x.name)\n",
    "power_tools.sort(key=lambda x:x.weight, reverse=True)\n",
    "print(power_tools)"
   ],
   "metadata": {
    "collapsed": false,
    "pycharm": {
     "name": "#%%\n"
    }
   }
  }
 ],
 "metadata": {
  "kernelspec": {
   "display_name": "Python 3",
   "language": "python",
   "name": "python3"
  },
  "language_info": {
   "codemirror_mode": {
    "name": "ipython",
    "version": 2
   },
   "file_extension": ".py",
   "mimetype": "text/x-python",
   "name": "python",
   "nbconvert_exporter": "python",
   "pygments_lexer": "ipython2",
   "version": "2.7.6"
  }
 },
 "nbformat": 4,
 "nbformat_minor": 0
}