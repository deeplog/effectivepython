{
 "cells": [
  {
   "cell_type": "markdown",
   "source": [
    "### 딕셔너리 삽입순서에 의존할 때 조심하라\n",
    "\n",
    "* 파이썬 3.7부터는 dict  인스턴스 내용이 이터레이션 될 때 키를 삽입한 순서대로 된다.\n",
    "* 파이썬 딕셔너리와 유사한 객체가 있는데 이런 타입의 경우 키 삽입 순서가 보존되는 것은 아니다.\n",
    "* 딕셔너리와 비슷한 클래스를 조심스럽게 다루기 위해서 dict 인스턴스의 삽입순서 보존에 의존하지 않는 코드를 작성한다."
   ],
   "metadata": {
    "collapsed": false,
    "pycharm": {
     "name": "#%% md\n"
    }
   }
  },
  {
   "cell_type": "markdown",
   "source": [
    "### 선행 지식\n",
    "* dictionary 구조\n",
    "* ```__dict__``` 사용하는 때와 사용법\n",
    "* list sort : names.sort(key=votes.get, reverse=True)\n",
    "* enumerate\n",
    "* 딕셔너리 프코토콜을 따르는 사용자 정의 딕셔너리 만드는 법\n",
    "* instance 확인하는 법: isinstance\n",
    "* raise typeerror 만드는 법\n",
    "* MutableMapping 상속받아서 사용하는 법"
   ],
   "metadata": {
    "collapsed": false,
    "pycharm": {
     "name": "#%% md\n"
    }
   }
  },
  {
   "cell_type": "markdown",
   "source": [
    "파이썬 3.5 이전에서는 딕셔너리 키 삽입 순서에 의존하지 않았다.\n",
    "파이썬 3.6 부터는 삽입 순서를 보존하도록 동작이 개선되었다."
   ],
   "metadata": {
    "collapsed": false,
    "pycharm": {
     "name": "#%% md\n"
    }
   }
  },
  {
   "cell_type": "code",
   "execution_count": 1,
   "outputs": [
    {
     "name": "stdout",
     "output_type": "stream",
     "text": [
      "{'cat': 'kitten', 'dog': 'puppy'}\n"
     ]
    }
   ],
   "source": [
    "# python 3.5에서는 다른 순서로 나온다.\n",
    "# 3.5 이후 버전에서만 아래와 같이 입력한 순서로 나온다.\n",
    "baby_names={\n",
    "    'cat': 'kitten',\n",
    "    'dog': 'puppy',\n",
    "}\n",
    "\n",
    "print(baby_names)"
   ],
   "metadata": {
    "collapsed": false,
    "pycharm": {
     "name": "#%%\n"
    }
   }
  },
  {
   "cell_type": "markdown",
   "source": [
    "key, value, items, popitem 등 딕셔너리가 제공하는 메소드도 파이썬 3.7부터는 순서에 의존할수 있게 되었다."
   ],
   "metadata": {
    "collapsed": false,
    "pycharm": {
     "name": "#%% md\n"
    }
   }
  },
  {
   "cell_type": "code",
   "execution_count": 6,
   "outputs": [
    {
     "name": "stdout",
     "output_type": "stream",
     "text": [
      "['cat', 'dog']\n",
      "['kitten', 'puppy']\n",
      "[('cat', 'kitten'), ('dog', 'puppy')]\n",
      "('dog', 'puppy')\n"
     ]
    }
   ],
   "source": [
    "# 3.5 이하에서는 아래와 같은 순서가 유지되지 않았다.\n",
    "# 이후 버전에서는 입력한 순서를 유지한다.\n",
    "print(list(baby_names.keys()))\n",
    "print(list(baby_names.values()))\n",
    "print(list(baby_names.items()))\n",
    "print(baby_names.popitem())"
   ],
   "metadata": {
    "collapsed": false,
    "pycharm": {
     "name": "#%%\n"
    }
   }
  },
  {
   "cell_type": "markdown",
   "source": [
    "함수에 대한 키워드 인자를 다루는 경우도 순서가 보존된다\n",
    "3.5 이전에는 키워드 인자의 순서가 뒤죽박죽 이었다.\n",
    "함수 키워드 인자를 출력하는 예제"
   ],
   "metadata": {
    "collapsed": false,
    "pycharm": {
     "name": "#%% md\n"
    }
   }
  },
  {
   "cell_type": "code",
   "execution_count": 19,
   "outputs": [
    {
     "name": "stdout",
     "output_type": "stream",
     "text": [
      "goose = gosling\n",
      "kangaroo = joey\n"
     ]
    }
   ],
   "source": [
    "def my_func(**kwargs):\n",
    "    for key, value in kwargs.items():\n",
    "        print(f'{key} = {value}')\n",
    "\n",
    "my_func(goose = 'gosling', kangaroo='joey')"
   ],
   "metadata": {
    "collapsed": false,
    "pycharm": {
     "name": "#%%\n"
    }
   }
  },
  {
   "cell_type": "markdown",
   "source": [
    "함수 뿐만 아니라 인스턴스 필드를 나타내는 __dict__  변수도 삽입한 순서를 유지하는 것을 확인할 수 있다.\n",
    "여기서 __dict__는 클래스 인스턴스 변수를 담고 있는 딕셔너리이다."
   ],
   "metadata": {
    "collapsed": false,
    "pycharm": {
     "name": "#%% md\n"
    }
   }
  },
  {
   "cell_type": "code",
   "execution_count": 5,
   "outputs": [
    {
     "name": "stdout",
     "output_type": "stream",
     "text": [
      "alligator = hatchiling\n",
      "elephant = calf\n"
     ]
    }
   ],
   "source": [
    "class MyClass:\n",
    "    def __init__(self):\n",
    "        self.alligator = 'hatchiling'\n",
    "        self.elephant = 'calf'\n",
    "\n",
    "a = MyClass()\n",
    "for key, value in a.__dict__.items():\n",
    "    print(f'{key} = {value}')"
   ],
   "metadata": {
    "collapsed": false,
    "pycharm": {
     "name": "#%%\n"
    }
   }
  },
  {
   "cell_type": "markdown",
   "source": [
    "딕셔너리를 처리할 때 삽입순서 동작이 항상 성립한다고 가정해서는 안된다. 파이썬은 list, dict등의 표준 프로토콜을 흉내내는 커스텀 컨테이너 타입을 쉽게 정의할 수 있다. 파이썬은 동적으로 타입이 결정되는 덕타이핑에 의존하며 이로인해 가끔 어려운 함정에 빠질 수 있다."
   ],
   "metadata": {
    "collapsed": false,
    "pycharm": {
     "name": "#%% md\n"
    }
   }
  },
  {
   "cell_type": "markdown",
   "source": [
    "가장 귀여운 아기 동물을 뽑는 콘테스트의 결과를 보여주는 프로그램을 작성해 보자.\n",
    "득표수를 저장한 딕셔너리를 만들고 아기동물의 이름을 따로 뽑아서 리스트로 저장한 다음에 아기동물의 이름을 득표수로 sorting 한다.\n"
   ],
   "metadata": {
    "collapsed": false,
    "pycharm": {
     "name": "#%% md\n"
    }
   }
  },
  {
   "cell_type": "code",
   "execution_count": 16,
   "outputs": [],
   "source": [
    "votes = {\n",
    "    'otter': 1281,\n",
    "    'polar bear': 587,\n",
    "    'fox':863,\n",
    "}"
   ],
   "metadata": {
    "collapsed": false,
    "pycharm": {
     "name": "#%%\n"
    }
   }
  },
  {
   "cell_type": "code",
   "execution_count": 17,
   "outputs": [
    {
     "name": "stdout",
     "output_type": "stream",
     "text": [
      "['otter', 'polar bear', 'fox']\n",
      "['otter', 'fox', 'polar bear']\n"
     ]
    }
   ],
   "source": [
    "names = list(votes.keys())\n",
    "print(names)\n",
    "\n",
    "names.sort(key=votes.get, reverse=True)\n",
    "print(names)"
   ],
   "metadata": {
    "collapsed": false,
    "pycharm": {
     "name": "#%%\n"
    }
   }
  },
  {
   "cell_type": "markdown",
   "source": [
    "최종 프로그램은 아래와 같다."
   ],
   "metadata": {
    "collapsed": false,
    "pycharm": {
     "name": "#%% md\n"
    }
   }
  },
  {
   "cell_type": "code",
   "execution_count": 18,
   "outputs": [
    {
     "name": "stdout",
     "output_type": "stream",
     "text": [
      "{'otter': 1, 'fox': 2, 'polar bear': 3}\n",
      "otter\n"
     ]
    }
   ],
   "source": [
    "# votes에 따라 정렬하고 winner를 출력하는 프로그램을 만들라\n",
    "votes = {\n",
    "    'otter': 1281,\n",
    "    'polar bear': 587,\n",
    "    'fox':863,\n",
    "}\n",
    "\n",
    "ranks={}\n",
    "\n",
    "def populate_ranks(votes, ranks):\n",
    "    # votes를 value 값으로 sort\n",
    "    # sort결과를 ranks에 넣어준다.\n",
    "    names = list(votes.keys())\n",
    "    names.sort(key=votes.get, reverse=True) #get은 key에 해당하는 value\n",
    "    for i, name in enumerate(names, 1):\n",
    "        ranks[name]=i\n",
    "\n",
    "def get_winner(ranks):\n",
    "    return next(iter(ranks))\n",
    "\n",
    "\n",
    "populate_ranks(votes, ranks)\n",
    "print(ranks)\n",
    "winner = get_winner(ranks)\n",
    "print(winner)"
   ],
   "metadata": {
    "collapsed": false,
    "pycharm": {
     "name": "#%%\n"
    }
   }
  },
  {
   "cell_type": "markdown",
   "source": [
    "프로그램의 요구사항이 변경되어서 등수가 아니라 알파벳 순으로 보여준다고 가정해보자\n",
    "이때, collections.abc를 이용해 딕셔너리와 비슷하지만 내용을 알파벳 내용을 알파벳 순서대로 이터레이션하는 클래스를 만든다.\n",
    "딕셔너리와 비슷한 클래스를 만든다는 것은 딕셔너리의 표준 프로토콜을 지킨다는 의미이다.\n",
    "즉, ```__getitem__, __setitem__, __delitem__, __iter__, __len__```을 정의하는 클래스를 만드는 것이다.\n",
    "이렇게 만든 사용자 정의 딕셔너리는 앞에서 만든 populate_ranks를 호출해도 아무런 문제가 생기지 않는다.\n",
    "이렇게 만든 클래스를 이용해 winner를 출력했는데 1등이 출력되지 않고 알파벳 순서로 맨 앞에 있는 fox가 출력되었다. 왜 이런 문제가 발생하는가?"
   ],
   "metadata": {
    "collapsed": false,
    "pycharm": {
     "name": "#%% md\n"
    }
   }
  },
  {
   "cell_type": "code",
   "execution_count": 21,
   "outputs": [
    {
     "name": "stdout",
     "output_type": "stream",
     "text": [
      "{'otter': 1, 'fox': 2, 'polar bear': 3}\n",
      "fox\n"
     ]
    }
   ],
   "source": [
    "# 요구사항 변경: 등수가 아니라 알파벳 순으로 보여줄 것\n",
    "# 알파벳 순서대로 이터레이션하는 클래스 작성\n",
    "from collections.abc import MutableMapping\n",
    "\n",
    "class SortedDict(MutableMapping):\n",
    "    def __init__(self):\n",
    "        self.data = {}\n",
    "\n",
    "    def __getitem__(self, key):\n",
    "        return self.data[key]\n",
    "\n",
    "    def __setitem__(self, key, value):\n",
    "        self.data[key] = value\n",
    "\n",
    "    def __delitem__(self,key):\n",
    "        del self.data[key]\n",
    "\n",
    "    def __iter__(self):\n",
    "        keys = list(self.data.keys())\n",
    "        keys.sort()\n",
    "        for key in keys:\n",
    "            yield key\n",
    "\n",
    "    def __len__(self):\n",
    "        return len(self.data)\n",
    "\n",
    "# 문제점: 1등을 뽑아주지 못함\n",
    "# 알파벳 순서대로 iteration 하였기 때문이다.\n",
    "def get_winner(ranks):\n",
    "    return next(iter(ranks))\n",
    "\n",
    "sorted_ranks = SortedDict()\n",
    "populate_ranks(votes, sorted_ranks)\n",
    "print(sorted_ranks.data)\n",
    "winner = get_winner(sorted_ranks)\n",
    "print(winner)"
   ],
   "metadata": {
    "collapsed": false,
    "pycharm": {
     "name": "#%%\n"
    }
   }
  },
  {
   "cell_type": "markdown",
   "source": [
    "위와 같은 문제가 발생한 이유는 get_winner를 구현할때 암묵적으로 사용자 딕셔너리 (SortedDict)가 사용자가 삽입한 순서로 이터레이션 하고 있다고 가정하기 때문이다. 그러나 `__iter__`  함수에서 sorting을 key값 기준으로 정렬된 순서로 이터레이션 하도록 구현되어 있어서 문제가 발생한 것이다. 이러한 문제를 해결하는 방법은?"
   ],
   "metadata": {
    "collapsed": false,
    "pycharm": {
     "name": "#%% md\n"
    }
   }
  },
  {
   "cell_type": "markdown",
   "source": [
    "첫번째 방법은 ranks (여기서는 sorteddict) 딕셔너리가 어떤 순서로 이터레이션 된다고 가정하지 않고 get_winner 함수를 구현하는 것이다. 가장 보수적인 방법이다."
   ],
   "metadata": {
    "collapsed": false,
    "pycharm": {
     "name": "#%% md\n"
    }
   }
  },
  {
   "cell_type": "code",
   "execution_count": 25,
   "outputs": [
    {
     "data": {
      "text/plain": "[('fox', 2), ('otter', 1), ('polar bear', 3)]"
     },
     "execution_count": 25,
     "metadata": {},
     "output_type": "execute_result"
    }
   ],
   "source": [
    "# 다음과 같이 데이터가 저장되어 있음을 확인해보자!!\n",
    "list(sorted_ranks.items())"
   ],
   "metadata": {
    "collapsed": false,
    "pycharm": {
     "name": "#%%\n"
    }
   }
  },
  {
   "cell_type": "code",
   "execution_count": 24,
   "outputs": [
    {
     "name": "stdout",
     "output_type": "stream",
     "text": [
      "otter\n"
     ]
    }
   ],
   "source": [
    "# 방법1: 1등인 rank를 뽑는다.\n",
    "# 문제점: 전체를 다 돌아야 하는 단점이 있다.\n",
    "def get_winner(ranks):\n",
    "    for name, rank in ranks.items():\n",
    "        if rank ==1:\n",
    "            return name\n",
    "\n",
    "winner = get_winner(sorted_ranks)\n",
    "print(winner)"
   ],
   "metadata": {
    "collapsed": false,
    "pycharm": {
     "name": "#%%\n"
    }
   }
  },
  {
   "cell_type": "markdown",
   "source": [
    "방법 2는 ranks가 우리가 원하는 타입일때만 실행시킨다. 이 방법은 보수적인 접근보다는 실행 성능이 우수하다.\n",
    "우리가 원하는 타입 검사는 isinstance 이다."
   ],
   "metadata": {
    "collapsed": false,
    "pycharm": {
     "name": "#%% md\n"
    }
   }
  },
  {
   "cell_type": "markdown",
   "source": [],
   "metadata": {
    "collapsed": false,
    "pycharm": {
     "name": "#%% md\n"
    }
   }
  },
  {
   "cell_type": "code",
   "execution_count": 26,
   "outputs": [
    {
     "ename": "TypeError",
     "evalue": "dict 인스턴스가 필요합니다.",
     "output_type": "error",
     "traceback": [
      "\u001B[1;31m---------------------------------------------------------------------------\u001B[0m",
      "\u001B[1;31mTypeError\u001B[0m                                 Traceback (most recent call last)",
      "Cell \u001B[1;32mIn [26], line 7\u001B[0m\n\u001B[0;32m      4\u001B[0m         \u001B[38;5;28;01mraise\u001B[39;00m \u001B[38;5;167;01mTypeError\u001B[39;00m(\u001B[38;5;124m'\u001B[39m\u001B[38;5;124mdict 인스턴스가 필요합니다.\u001B[39m\u001B[38;5;124m'\u001B[39m)\n\u001B[0;32m      5\u001B[0m     \u001B[38;5;28;01mreturn\u001B[39;00m \u001B[38;5;28mnext\u001B[39m(\u001B[38;5;28miter\u001B[39m(ranks))\n\u001B[1;32m----> 7\u001B[0m \u001B[43mget_winner\u001B[49m\u001B[43m(\u001B[49m\u001B[43msorted_ranks\u001B[49m\u001B[43m)\u001B[49m\n",
      "Cell \u001B[1;32mIn [26], line 4\u001B[0m, in \u001B[0;36mget_winner\u001B[1;34m(ranks)\u001B[0m\n\u001B[0;32m      2\u001B[0m \u001B[38;5;28;01mdef\u001B[39;00m \u001B[38;5;21mget_winner\u001B[39m(ranks):\n\u001B[0;32m      3\u001B[0m     \u001B[38;5;28;01mif\u001B[39;00m \u001B[38;5;129;01mnot\u001B[39;00m \u001B[38;5;28misinstance\u001B[39m(ranks, \u001B[38;5;28mdict\u001B[39m):\n\u001B[1;32m----> 4\u001B[0m         \u001B[38;5;28;01mraise\u001B[39;00m \u001B[38;5;167;01mTypeError\u001B[39;00m(\u001B[38;5;124m'\u001B[39m\u001B[38;5;124mdict 인스턴스가 필요합니다.\u001B[39m\u001B[38;5;124m'\u001B[39m)\n\u001B[0;32m      5\u001B[0m     \u001B[38;5;28;01mreturn\u001B[39;00m \u001B[38;5;28mnext\u001B[39m(\u001B[38;5;28miter\u001B[39m(ranks))\n",
      "\u001B[1;31mTypeError\u001B[0m: dict 인스턴스가 필요합니다."
     ]
    }
   ],
   "source": [
    "# 방법2: dict일때만 실행하게 한다.\n",
    "def get_winner(ranks):\n",
    "    if not isinstance(ranks, dict):\n",
    "        raise TypeError('dict 인스턴스가 필요합니다.')\n",
    "    return next(iter(ranks))\n",
    "\n",
    "get_winner(sorted_ranks)"
   ],
   "metadata": {
    "collapsed": false,
    "pycharm": {
     "name": "#%%\n"
    }
   }
  },
  {
   "cell_type": "code",
   "execution_count": 29,
   "outputs": [
    {
     "data": {
      "text/plain": "'otter'"
     },
     "execution_count": 29,
     "metadata": {},
     "output_type": "execute_result"
    }
   ],
   "source": [
    "# ranks가 dict 이기 때문에 우리가 원하는 otter가 출력이 된다.\n",
    "get_winner(ranks)"
   ],
   "metadata": {
    "collapsed": false,
    "pycharm": {
     "name": "#%%\n"
    }
   }
  },
  {
   "cell_type": "markdown",
   "source": [
    "세번째 방법은 Type annotation을 사용하는 해서 get_winner에 전달되는 값을 dict 인스턴스가 되도록 강제하는 것이다.\n",
    "세번째 방법은 mypy를 사용해서 타입 체크를 하는 것인데 생각보다 사용하는 방법이 쉽지 않아서 아래 내용은 스킵한다."
   ],
   "metadata": {
    "collapsed": false,
    "pycharm": {
     "name": "#%% md\n"
    }
   }
  },
  {
   "cell_type": "code",
   "execution_count": 37,
   "outputs": [
    {
     "name": "stdout",
     "output_type": "stream",
     "text": [
      "{'otter': 1, 'fox': 2, 'polar bear': 3}\n",
      "fox\n"
     ]
    }
   ],
   "source": [
    "from typing import Dict, MutableMapping\n",
    "def populate_ranks(votes: Dict[str, int],\n",
    "                   ranks: Dict[str, int]) -> None:\n",
    "    names = list(votes.keys())\n",
    "    names.sort(key=votes.get, reverse=True)\n",
    "    for i, name in enumerate(names, 1):\n",
    "        ranks[name] = i\n",
    "\n",
    "def get_winner(ranks: Dict[str, int]) -> str:\n",
    "    return next(iter(ranks))\n",
    "\n",
    "sorted_ranks = SortedDict()\n",
    "populate_ranks(votes, sorted_ranks)\n",
    "print(sorted_ranks.data)\n",
    "\n",
    "winner = get_winner(sorted_ranks)\n",
    "print(winner)"
   ],
   "metadata": {
    "collapsed": false,
    "pycharm": {
     "name": "#%%\n"
    }
   }
  }
 ],
 "metadata": {
  "kernelspec": {
   "display_name": "Python 3",
   "language": "python",
   "name": "python3"
  },
  "language_info": {
   "codemirror_mode": {
    "name": "ipython",
    "version": 2
   },
   "file_extension": ".py",
   "mimetype": "text/x-python",
   "name": "python",
   "nbconvert_exporter": "python",
   "pygments_lexer": "ipython2",
   "version": "2.7.6"
  }
 },
 "nbformat": 4,
 "nbformat_minor": 0
}