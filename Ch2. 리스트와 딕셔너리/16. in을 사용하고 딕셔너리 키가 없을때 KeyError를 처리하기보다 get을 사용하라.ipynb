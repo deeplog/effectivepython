{
 "cells": [
  {
   "cell_type": "markdown",
   "source": [
    "### 요약\n",
    "\n",
    "* 딕셔너리 키가 없는 경우를 처리하는 방법으로는\n",
    "    * in을 사용하는 방법\n",
    "    * KeyError 예외를 사용하는 방법\n",
    "    * get 매서드를 사용하는 방법\n",
    "    * setDefault,  매서드를 사용하는 방법\n",
    "* 카운터와 같이 기본적인 타입의 값이 들어가는 딕셔너리를 다룰 때는 get이 가장 좋다.\n",
    "* 해결하려는 문제에 dict의 setdefault 매서드를 사용하는 방법이 가장 적합해 보인다면 setdefault 대신 defaultdict를 고려해 보자"
   ],
   "metadata": {
    "collapsed": false,
    "pycharm": {
     "name": "#%% md\n"
    }
   }
  },
  {
   "cell_type": "markdown",
   "source": [
    " ### 선행 지식\n",
    "* in dictionary 사용법\n",
    "* try except\n",
    "* dictionary의 get 사용법\n",
    "* if 문에서 대입식을 사용하는 방법\n",
    "* list에서 appedn 사용법"
   ],
   "metadata": {
    "collapsed": false,
    "pycharm": {
     "name": "#%% md\n"
    }
   }
  },
  {
   "cell_type": "markdown",
   "source": [
    "딕셔너리와 상호작용하는 세가지 기본 연산은 키나 키에 관련된 값에 접근하고, 대입하고, 삭제하는 것이다. 예를들어 샌드위치 가게에서 고객들이 가장 좋아하는 빵을 찾아서 메뉴를 결정하고 싶다. 사람들이 각각의 빵에 얼마나 투표했는지 저장한 딕셔너리를 저장할 수 있다."
   ],
   "metadata": {
    "collapsed": false,
    "pycharm": {
     "name": "#%% md\n"
    }
   }
  },
  {
   "cell_type": "code",
   "execution_count": 20,
   "outputs": [],
   "source": [
    " counters = {\n",
    "    \"폼퍼니켈\": 2,\n",
    "    \"사워도우\": 1,\n",
    "}"
   ],
   "metadata": {
    "collapsed": false,
    "pycharm": {
     "name": "#%%\n"
    }
   }
  },
  {
   "cell_type": "markdown",
   "source": [
    "방법 1. 투표가 일어날때 카운터를 증가시키려면, 키가 딕셔너리에 존재하는지 확인하고 키가 없으면 0을 있으면 1을 증가시킨다. 이렇게 처리하려면 딕셔너리에서 키를 두번 읽고 키에 대한 값을 한번 대입해야 한다."
   ],
   "metadata": {
    "collapsed": false,
    "pycharm": {
     "name": "#%% md\n"
    }
   }
  },
  {
   "cell_type": "code",
   "execution_count": 21,
   "outputs": [
    {
     "name": "stdout",
     "output_type": "stream",
     "text": [
      "dict_items([('폼퍼니켈', 2), ('사워도우', 1), (' 밀', 1)])\n"
     ]
    }
   ],
   "source": [
    "key = \" 밀\"\n",
    "if key in counters:\n",
    "    count = counters[key]\n",
    "else:\n",
    "    count = 0\n",
    "\n",
    "counters[key] = count +1\n",
    "\n",
    "print(counters.items())"
   ],
   "metadata": {
    "collapsed": false,
    "pycharm": {
     "name": "#%%\n"
    }
   }
  },
  {
   "cell_type": "markdown",
   "source": [
    "방법 2. 키를 한번만 읽고 대입하는 방법이 있다. KeyError 예외를 이용하는 것이다."
   ],
   "metadata": {
    "collapsed": false,
    "pycharm": {
     "name": "#%% md\n"
    }
   }
  },
  {
   "cell_type": "code",
   "execution_count": 22,
   "outputs": [
    {
     "name": "stdout",
     "output_type": "stream",
     "text": [
      "dict_items([('폼퍼니켈', 2), ('사워도우', 1), (' 밀', 1), ('쌀', 1)])\n"
     ]
    }
   ],
   "source": [
    "key = '쌀'\n",
    "try:\n",
    "    count = counters[key]\n",
    "except KeyError:\n",
    "    count = 0\n",
    "\n",
    "counters[key] = count + 1\n",
    "\n",
    "print(counters.items())"
   ],
   "metadata": {
    "collapsed": false,
    "pycharm": {
     "name": "#%%\n"
    }
   }
  },
  {
   "cell_type": "markdown",
   "source": [
    "방법 3. in 과 keyerror를 사용하면 대입을 중복 사용하므로 코드가 복잡해질 수 있다. get 매서드를 사용하면 코드를 간단하게 작성할 수 있다."
   ],
   "metadata": {
    "collapsed": false,
    "pycharm": {
     "name": "#%% md\n"
    }
   }
  },
  {
   "cell_type": "code",
   "execution_count": 23,
   "outputs": [
    {
     "name": "stdout",
     "output_type": "stream",
     "text": [
      "dict_items([('폼퍼니켈', 2), ('사워도우', 1), (' 밀', 1), ('쌀', 1), ('보리', 1)])\n"
     ]
    }
   ],
   "source": [
    "key =\"보리\"\n",
    "count = counters.get(key, 0)\n",
    "counters[key] = count + 1\n",
    "\n",
    "print(counters.items())"
   ],
   "metadata": {
    "collapsed": false,
    "pycharm": {
     "name": "#%%\n"
    }
   }
  },
  {
   "cell_type": "markdown",
   "source": [
    "딕셔너리에 저장된 값이 리스트처럼 더 복잡한 값이라면 어떻게 해야 할까?\n",
    "어떤 사람이 어떤 유형의 빵에 투표했는지도 알고 싶다."
   ],
   "metadata": {
    "collapsed": false,
    "pycharm": {
     "name": "#%% md\n"
    }
   },
   "outputs": []
  },
  {
   "cell_type": "markdown",
   "source": [
    "방법 1.\n",
    "해당 키값의 아이템인 리스트를 읽은 다음에\n",
    "그 리스트에 append 한다."
   ],
   "metadata": {
    "collapsed": false,
    "pycharm": {
     "name": "#%% md\n"
    }
   }
  },
  {
   "cell_type": "code",
   "execution_count": 24,
   "outputs": [
    {
     "name": "stdout",
     "output_type": "stream",
     "text": [
      "{'바게트': ['철수', '순이'], '치아바타': ['하니', '유리'], '브리오슈': ['단이']}\n"
     ]
    }
   ],
   "source": [
    "votes = {\n",
    "    '바게트': ['철수', '순이'],\n",
    "    '치아바타': ['하니', '유리']\n",
    "}\n",
    "key = '브리오슈'\n",
    "who = '단이'\n",
    "\n",
    "if key in votes:\n",
    "    names = votes[key]\n",
    "else:\n",
    "    votes[key] = names = []\n",
    "\n",
    "names.append(who)\n",
    "print(votes)"
   ],
   "metadata": {
    "collapsed": false,
    "pycharm": {
     "name": "#%%\n"
    }
   }
  },
  {
   "cell_type": "markdown",
   "source": [
    "방법2. Keyerror를 이용해서 하는 방법도 있다."
   ],
   "metadata": {
    "collapsed": false,
    "pycharm": {
     "name": "#%% md\n"
    }
   }
  },
  {
   "cell_type": "code",
   "execution_count": 25,
   "outputs": [
    {
     "name": "stdout",
     "output_type": "stream",
     "text": [
      "{'바게트': ['철수', '순이'], '치아바타': ['하니', '유리'], '브리오슈': ['단이'], '신규브랜드': ['홍길동']}\n"
     ]
    }
   ],
   "source": [
    "key = '신규브랜드'\n",
    "who = '홍길동'\n",
    "\n",
    "try:\n",
    "    names = votes[key]\n",
    "except KeyError:\n",
    "    votes[key] = names =[]\n",
    "\n",
    "names.append(who)\n",
    "print(votes)"
   ],
   "metadata": {
    "collapsed": false,
    "pycharm": {
     "name": "#%%\n"
    }
   }
  },
  {
   "cell_type": "markdown",
   "source": [
    "방법3. get을 사용해서는 다음과 같이 해결한다."
   ],
   "metadata": {
    "collapsed": false,
    "pycharm": {
     "name": "#%% md\n"
    }
   }
  },
  {
   "cell_type": "code",
   "execution_count": 26,
   "outputs": [
    {
     "name": "stdout",
     "output_type": "stream",
     "text": [
      "{'바게트': ['철수', '순이'], '치아바타': ['하니', '유리'], '브리오슈': ['단이'], '신규브랜드': ['홍길동'], '신규브랜드2': ['홍길동2']}\n"
     ]
    }
   ],
   "source": [
    "key = '신규브랜드2'\n",
    "who = '홍길동2'\n",
    "\n",
    "names = votes.get(key)\n",
    "if names is None:\n",
    "    votes[key] = names = []\n",
    "\n",
    "names.append(who)\n",
    "print(votes)"
   ],
   "metadata": {
    "collapsed": false,
    "pycharm": {
     "name": "#%%\n"
    }
   }
  },
  {
   "cell_type": "markdown",
   "source": [
    " 방법 4. get 을 사용해되 더 간결한 표현 방식은 아래와 같다.\n",
    " if 문안에 대입식을 사용하는 것이다."
   ],
   "metadata": {
    "collapsed": false,
    "pycharm": {
     "name": "#%% md\n"
    }
   }
  },
  {
   "cell_type": "code",
   "execution_count": 27,
   "outputs": [
    {
     "name": "stdout",
     "output_type": "stream",
     "text": [
      "{'바게트': ['철수', '순이'], '치아바타': ['하니', '유리'], '브리오슈': ['단이'], '신규브랜드': ['홍길동'], '신규브랜드2': ['홍길동2'], '신규브랜드3': ['홍길동3']}\n"
     ]
    }
   ],
   "source": [
    "key = '신규브랜드3'\n",
    "who = '홍길동3'\n",
    "\n",
    "if (names:= votes.get(key)) is None:\n",
    "    votes[key] = names = []\n",
    "\n",
    "names.append(who)\n",
    "print(votes)"
   ],
   "metadata": {
    "collapsed": false,
    "pycharm": {
     "name": "#%%\n"
    }
   }
  },
  {
   "cell_type": "markdown",
   "source": [
    "방법5.\n",
    "setdefault를 사용하는 방법, 가능하면  setdefault를 사용하지 말것\n",
    "문제점 1. 문제는 매서드의 setdefault로서 이 매서드의 동작을 직접 드러내지 못한다. 가독성이 떨어지는 문제점을 가지고 있다.\n",
    "문제점 2. 뿐만 아니라 전달된 디폴트 값이 딕셔너리에 직접 대입되므로 예상치 못한 오류가 발생할 수 있다."
   ],
   "metadata": {
    "collapsed": false,
    "pycharm": {
     "name": "#%% md\n"
    }
   }
  },
  {
   "cell_type": "code",
   "execution_count": 28,
   "outputs": [
    {
     "name": "stdout",
     "output_type": "stream",
     "text": [
      "{'바게트': ['철수', '순이'], '치아바타': ['하니', '유리'], '브리오슈': ['단이'], '신규브랜드': ['홍길동'], '신규브랜드2': ['홍길동2'], '신규브랜드3': ['홍길동3'], '신규브랜드4': ['홍길동4']}\n"
     ]
    }
   ],
   "source": [
    "key = '신규브랜드4'\n",
    "who = '홍길동4'\n",
    "\n",
    "names = votes.setdefault(key, [])\n",
    "names.append(who)\n",
    "print(votes)"
   ],
   "metadata": {
    "collapsed": false,
    "pycharm": {
     "name": "#%%\n"
    }
   }
  },
  {
   "cell_type": "code",
   "execution_count": 30,
   "outputs": [
    {
     "name": "stdout",
     "output_type": "stream",
     "text": [
      "{'foo': []}\n",
      "{'foo': ['hello']}\n"
     ]
    }
   ],
   "source": [
    "## 방법5의 두번째 문제점 재현\n",
    "# value 값은 인자로 전달했는데\n",
    "# 외부에서 수정한 경우에도 해당 dictionaly가 변경이 된다.\n",
    "data ={}\n",
    "key = 'foo'\n",
    "value = []\n",
    "\n",
    "data.setdefault(key, value)\n",
    "print(data)\n",
    "\n",
    "value.append('hello')\n",
    "print(data)"
   ],
   "metadata": {
    "collapsed": false,
    "pycharm": {
     "name": "#%%\n"
    }
   }
  },
  {
   "cell_type": "code",
   "execution_count": null,
   "outputs": [],
   "source": [],
   "metadata": {
    "collapsed": false,
    "pycharm": {
     "name": "#%%\n"
    }
   }
  }
 ],
 "metadata": {
  "kernelspec": {
   "display_name": "Python 3",
   "language": "python",
   "name": "python3"
  },
  "language_info": {
   "codemirror_mode": {
    "name": "ipython",
    "version": 2
   },
   "file_extension": ".py",
   "mimetype": "text/x-python",
   "name": "python",
   "nbconvert_exporter": "python",
   "pygments_lexer": "ipython2",
   "version": "2.7.6"
  }
 },
 "nbformat": 4,
 "nbformat_minor": 0
}