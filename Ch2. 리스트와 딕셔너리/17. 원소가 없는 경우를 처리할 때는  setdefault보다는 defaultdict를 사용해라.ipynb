{
 "cells": [
  {
   "cell_type": "markdown",
   "source": [
    "### 17. 원소가 없는 경우 setdefault 보다는 defaultdict\n",
    "* 키로 어떤 값이 들어올지 모르는 경우,   defaultdict 활용한다.\n",
    "* setdefault 가 필요하다면 setdefault를 사용하는 것도 고려해라"
   ],
   "metadata": {
    "collapsed": false,
    "pycharm": {
     "name": "#%% md\n"
    }
   }
  },
  {
   "cell_type": "markdown",
   "source": [
    "### 선행 지식\n",
    "* set 사용법\n",
    "* setdefault 사용법\n",
    "* 클래스\n",
    "* defaultdict"
   ],
   "metadata": {
    "collapsed": false,
    "pycharm": {
     "name": "#%% md\n"
    }
   }
  },
  {
   "cell_type": "markdown",
   "source": [
    "나라 이름과 방문한 도시이름으로 이루어진 딕셔너리에 새 국가에 새 도시를 추가하는 방법에 대해 논의한다"
   ],
   "metadata": {
    "collapsed": false,
    "pycharm": {
     "name": "#%% md\n"
    }
   }
  },
  {
   "cell_type": "code",
   "execution_count": 2,
   "outputs": [],
   "source": [
    "visits = {\n",
    "    '미국': {'뉴욕','로스엔젤레스'},\n",
    "    '일본': {'하코네'}\n",
    "}"
   ],
   "metadata": {
    "collapsed": false,
    "pycharm": {
     "name": "#%%\n"
    }
   }
  },
  {
   "cell_type": "markdown",
   "source": [
    "방법 1. setdefault를 이용하는 방법은 다음과 같다."
   ],
   "metadata": {
    "collapsed": false,
    "pycharm": {
     "name": "#%% md\n"
    }
   }
  },
  {
   "cell_type": "code",
   "execution_count": 5,
   "outputs": [
    {
     "name": "stdout",
     "output_type": "stream",
     "text": [
      "{'미국': {'로스엔젤레스', '뉴욕'}, '일본': {'하코네'}, '프랑스': {'칸'}}\n"
     ]
    }
   ],
   "source": [
    "visits.setdefault('프랑스',set()).add('칸')\n",
    "print(visits)"
   ],
   "metadata": {
    "collapsed": false,
    "pycharm": {
     "name": "#%%\n"
    }
   }
  },
  {
   "cell_type": "markdown",
   "source": [
    "방법 2. if 대입식을 사용하는 방법은 다음과 같다\n",
    "일본이 있으면 대입하고 없으면 새로 만들어서 add 한다."
   ],
   "metadata": {
    "collapsed": false,
    "pycharm": {
     "name": "#%% md\n"
    }
   }
  },
  {
   "cell_type": "code",
   "execution_count": 7,
   "outputs": [
    {
     "name": "stdout",
     "output_type": "stream",
     "text": [
      "{'미국': {'로스엔젤레스', '뉴욕'}, '일본': {'교토', '하코네'}, '프랑스': {'칸'}}\n"
     ]
    }
   ],
   "source": [
    "if (japan:=visits.get('일본')) is None:\n",
    "    visits['일본'] = japan = set()\n",
    "japan.add('교토')\n",
    "\n",
    "print(visits)"
   ],
   "metadata": {
    "collapsed": false,
    "pycharm": {
     "name": "#%%\n"
    }
   }
  },
  {
   "cell_type": "markdown",
   "source": [
    "방법 3. 클래스 내부에서 딕셔너리를 사용한다.\n",
    "클래스는 setdefault 호출의 복잡도를 감춰주면서 더 나은 인터페이스를 제공한다."
   ],
   "metadata": {
    "collapsed": false,
    "pycharm": {
     "name": "#%% md\n"
    }
   }
  },
  {
   "cell_type": "code",
   "execution_count": 9,
   "outputs": [
    {
     "name": "stdout",
     "output_type": "stream",
     "text": [
      "{'러시아': {'예카테린부르크'}, '탄자니아': {'잔지바르'}}\n"
     ]
    }
   ],
   "source": [
    " class Visits:\n",
    "    def __init__(self):\n",
    "        self.data ={}\n",
    "    def add(self, country, city):\n",
    "        city_set = self.data.setdefault(country,set())\n",
    "        city_set.add(city)\n",
    "\n",
    "visits = Visits()\n",
    "visits.add('러시아', '예카테린부르크')\n",
    "visits.add('탄자니아', '잔지바르')\n",
    "print(visits.data)"
   ],
   "metadata": {
    "collapsed": false,
    "pycharm": {
     "name": "#%%\n"
    }
   }
  },
  {
   "cell_type": "markdown",
   "source": [
    "방법3은 setdefault라는 매서드는 여전히 헷갈리고, 주어진 data가 data에 있어도 add 매서드는 항상 set 인스턴스를 만들기 때문에 비효율적이다.\n",
    "\n",
    "방법4. 이러한 중복 인스턴스 문제를 해결하기 위해서 defaultdict를 활용하는 것이다."
   ],
   "metadata": {
    "collapsed": false,
    "pycharm": {
     "name": "#%% md\n"
    }
   }
  },
  {
   "cell_type": "code",
   "execution_count": 10,
   "outputs": [
    {
     "name": "stdout",
     "output_type": "stream",
     "text": [
      "defaultdict(<class 'set'>, {'영국': {'런던', '버스'}})\n"
     ]
    }
   ],
   "source": [
    "from _collections import defaultdict\n",
    "\n",
    "class Visits:\n",
    "    def __init__(self):\n",
    "        self.data = defaultdict(set)\n",
    "    def add(self, country, city):\n",
    "        self.data[country].add(city)\n",
    "\n",
    "visits = Visits()\n",
    "visits.add('영국','버스')\n",
    "visits.add('영국','런던')\n",
    "print(visits.data)"
   ],
   "metadata": {
    "collapsed": false,
    "pycharm": {
     "name": "#%%\n"
    }
   }
  },
  {
   "cell_type": "code",
   "execution_count": null,
   "outputs": [],
   "source": [],
   "metadata": {
    "collapsed": false,
    "pycharm": {
     "name": "#%%\n"
    }
   }
  }
 ],
 "metadata": {
  "kernelspec": {
   "display_name": "Python 3",
   "language": "python",
   "name": "python3"
  },
  "language_info": {
   "codemirror_mode": {
    "name": "ipython",
    "version": 2
   },
   "file_extension": ".py",
   "mimetype": "text/x-python",
   "name": "python",
   "nbconvert_exporter": "python",
   "pygments_lexer": "ipython2",
   "version": "2.7.6"
  }
 },
 "nbformat": 4,
 "nbformat_minor": 0
}