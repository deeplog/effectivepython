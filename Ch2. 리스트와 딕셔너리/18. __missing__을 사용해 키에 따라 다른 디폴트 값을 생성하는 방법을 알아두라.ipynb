{
 "cells": [
  {
   "cell_type": "markdown",
   "source": [
    "### `__missing__` 을 사용해 키에 따라 다른 디폴트 값을 생성하는 방법을 알아두라\n",
    "* 디폴트 값은 만든 과정에서 계산 비용이 높거나 예외가 발생할 수 있는 상황에서는 setdefault를 사용하지 말것\n",
    "* defaultdict에 전달되는 함수는 인자를 받지 않는다. 그래서 접근한 키값에 맞는 디폴트 값을 생성하는 것은 불가능하다.\n",
    "* 디폴트 키를 만들때 어떤 키를 사용했는지 알아야 된다면, dict를 상속받고 __missing__ 을 오버라이딩한다."
   ],
   "metadata": {
    "collapsed": false,
    "pycharm": {
     "name": "#%% md\n"
    }
   }
  },
  {
   "cell_type": "markdown",
   "source": [
    "### 선행 지식\n",
    "* 대입식\n",
    "* try/except/else 문\n",
    "* dictionary의 setdefault 함수\n",
    "* file open 함수\n",
    "* `__missing__()` 오버라이딩의 정확한 의미"
   ],
   "metadata": {
    "collapsed": false,
    "pycharm": {
     "name": "#%% md\n"
    }
   }
  },
  {
   "cell_type": "markdown",
   "source": [
    "setdefault 나 defaultdict 는 키가 없는 경우 처리를 잘해준다. 그러나 이를 사용하는\n",
    " 것이 적당하지 않은 경우가 있다.\n",
    "SNS 프로필 사진을 관리하는 프로그램을 작성한다고 가정하자.\n",
    "\n",
    "파일 핸들이 이미 딕셔너리안에 있으면 이 코드는 딕셔너리를 단 한번만 읽는다. 파일 핸들이 없으면 handle을 오픈한 다음에 그 핸들을 pictures 딕셔너리에 대입한다.\n"
   ],
   "metadata": {
    "collapsed": false,
    "pycharm": {
     "name": "#%% md\n"
    }
   }
  },
  {
   "cell_type": "code",
   "execution_count": 15,
   "outputs": [
    {
     "name": "stdout",
     "output_type": "stream",
     "text": [
      "test.png를 오픈합니다.\n"
     ]
    }
   ],
   "source": [
    "pictures= {}\n",
    "path = 'test.png'\n",
    "\n",
    "if (handle:=pictures.get(path)) is None:\n",
    "    try:\n",
    "        print(f'{path}를 오픈합니다.')\n",
    "        handle = open(path, 'a+b')\n",
    "    except OSError:\n",
    "        print(f'경로를 열 수 없습니다: {path}')\n",
    "        raise\n",
    "    else:\n",
    "        pictures[path] = handle\n",
    "\n",
    "\n",
    "handle.seek(0)\n",
    "image_data = handle.read()"
   ],
   "metadata": {
    "collapsed": false,
    "pycharm": {
     "name": "#%%\n"
    }
   }
  },
  {
   "cell_type": "markdown",
   "source": [
    "대입식 후에 open 하는 코드를 한 개의 코드로 바꿔서 효율적인 코드로 바꾸기 위해 다음과 같은 방식도 생각해 볼 수 있다."
   ],
   "metadata": {
    "collapsed": false,
    "pycharm": {
     "name": "#%% md\n"
    }
   }
  },
  {
   "cell_type": "code",
   "execution_count": 16,
   "outputs": [],
   "source": [
    "try:\n",
    "    handle = pictures.setdefault(path, open(path, 'a+b'))\n",
    "except OSError:\n",
    "    print(f'경로를 열 수 없습니다.: {path}')\n",
    "    raise\n",
    "else:\n",
    "    handle.seek(0)\n",
    "    image_data = handle.read()"
   ],
   "metadata": {
    "collapsed": false,
    "pycharm": {
     "name": "#%%\n"
    }
   }
  },
  {
   "cell_type": "markdown",
   "source": [
    "위의 코드는 여러가지 문제점들을 안고 있다. open이 딕셔너리에 경로가 있든지 없든지 상관없이 항상 호출된다. 즉 open이 예외를 던질수도 있다. 그러나 이러한 예외가 setdefault 예외와 구분하지 못할 수 도 있다."
   ],
   "metadata": {
    "collapsed": false,
    "pycharm": {
     "name": "#%% md\n"
    }
   }
  },
  {
   "cell_type": "markdown",
   "source": [
    "defaultdict를 이용해 구현해 보면 다음과 같다.\n",
    "그런데 문제는 defaultdict 생성자에 전달한 함수는 인자를 받을 수 없다."
   ],
   "metadata": {
    "collapsed": false,
    "pycharm": {
     "name": "#%% md\n"
    }
   }
  },
  {
   "cell_type": "code",
   "execution_count": 32,
   "outputs": [
    {
     "ename": "TypeError",
     "evalue": "open_picture() missing 1 required positional argument: 'profile_path'",
     "output_type": "error",
     "traceback": [
      "\u001B[1;31m---------------------------------------------------------------------------\u001B[0m",
      "\u001B[1;31mTypeError\u001B[0m                                 Traceback (most recent call last)",
      "Cell \u001B[1;32mIn [32], line 11\u001B[0m\n\u001B[0;32m      8\u001B[0m         \u001B[38;5;28;01mraise\u001B[39;00m\n\u001B[0;32m     10\u001B[0m defaultdict(open_picture)\n\u001B[1;32m---> 11\u001B[0m handle \u001B[38;5;241m=\u001B[39m \u001B[43mpictures\u001B[49m\u001B[43m[\u001B[49m\u001B[43mpath\u001B[49m\u001B[43m]\u001B[49m\n\u001B[0;32m     12\u001B[0m handle\u001B[38;5;241m.\u001B[39mseek(\u001B[38;5;241m0\u001B[39m)\n\u001B[0;32m     13\u001B[0m image_data \u001B[38;5;241m=\u001B[39m handle\u001B[38;5;241m.\u001B[39mread()\n",
      "\u001B[1;31mTypeError\u001B[0m: open_picture() missing 1 required positional argument: 'profile_path'"
     ]
    }
   ],
   "source": [
    "from collections import defaultdict\n",
    "\n",
    "def open_picture(profile_path):\n",
    "    try:\n",
    "        return open(profile_path, 'a+b')\n",
    "    except OSError:\n",
    "        print(f'경로를 열 수 없습니다.: {profile_path}')\n",
    "        raise\n",
    "\n",
    "defaultdict(open_picture)\n",
    "handle = pictures[path]\n",
    "handle.seek(0)\n",
    "image_data = handle.read()\n",
    "print(image_data)"
   ],
   "metadata": {
    "collapsed": false,
    "pycharm": {
     "name": "#%%\n"
    }
   }
  },
  {
   "cell_type": "markdown",
   "source": [
    "위의 문제를 해결하기 위해 `__missing__` 특별 매서드를 구현하고 키가 없는 경우를 처리하는 로직을 구현한다. 아래에서 보는 바와 같이 pictures[key]를 호출했는데 key가 없다면`__missing__` 함수가 호출이 되고, 그 안에서 open_picutre 도우미 함수가 호출이 된다. 그래서 key에 해당하는 value가 생성이 되고, 그 value를 key에 대입하면서 value를 return해 준다. 그 이후 다시 호출하면 이미 key가 만들어져 있으므로 missing은 호출되지 않는다."
   ],
   "metadata": {
    "collapsed": false,
    "pycharm": {
     "name": "#%% md\n"
    }
   }
  },
  {
   "cell_type": "code",
   "execution_count": 35,
   "outputs": [],
   "source": [
    " class Pictures(dict):\n",
    "    def __missing__(self, key):\n",
    "        value = open_picture(key)\n",
    "        self[key]= value\n",
    "        return value\n",
    "\n",
    "pictures = Pictures()\n",
    "handle = pictures[path]\n",
    "handle.seek(0)\n",
    "image_data = handle.read()"
   ],
   "metadata": {
    "collapsed": false,
    "pycharm": {
     "name": "#%%\n"
    }
   }
  },
  {
   "cell_type": "code",
   "execution_count": null,
   "outputs": [],
   "source": [],
   "metadata": {
    "collapsed": false,
    "pycharm": {
     "name": "#%%\n"
    }
   }
  }
 ],
 "metadata": {
  "kernelspec": {
   "display_name": "Python 3",
   "language": "python",
   "name": "python3"
  },
  "language_info": {
   "codemirror_mode": {
    "name": "ipython",
    "version": 2
   },
   "file_extension": ".py",
   "mimetype": "text/x-python",
   "name": "python",
   "nbconvert_exporter": "python",
   "pygments_lexer": "ipython2",
   "version": "2.7.6"
  }
 },
 "nbformat": 4,
 "nbformat_minor": 0
}