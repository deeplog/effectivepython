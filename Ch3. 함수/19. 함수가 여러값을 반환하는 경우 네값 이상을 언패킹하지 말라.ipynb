{
 "cells": [
  {
   "cell_type": "markdown",
   "source": [
    "### 19. 함수가 여러 값을 반환하는 경우 절대로 네 값 이상을 언패킹하지 말라\n",
    "* 함수가 여러값을 반환하기 위해 값을 튜플에 넣어서 반환한다.\n",
    "* 호출하는 쪽에서는 파이썬 언패킹 구문을 쓸 수 있다.\n",
    "* 별표식을 사용해 언패킹할 수 있다.\n",
    "* 네개이상을 언패킹으로 반환하지 말고, 클래스를 반환하거나 namedtuple 인스턴스를 반환해라"
   ],
   "metadata": {
    "collapsed": false,
    "pycharm": {
     "name": "#%% md\n"
    }
   }
  },
  {
   "cell_type": "markdown",
   "source": [
    "### 선행 지식\n",
    "* 언패킹\n",
    "* 튜플\n",
    "* 별표식\n",
    "* namedtuple\n",
    "* 몫 구하기"
   ],
   "metadata": {
    "collapsed": false,
    "pycharm": {
     "name": "#%% md\n"
    }
   }
  },
  {
   "cell_type": "markdown",
   "source": [
    "언패킹을 사용하면 함수가 둘 이상의 값을 반환할 수 있다.\n",
    "악어 개체군에 대한 몸 길이중에서 가장 짧은 것과 가장 긴 것을 반환하는 함수를 작성한다고 가정해 보자\n",
    "아래의 코드는 튜플을 반환하고 두 변수 대입해서 언패킹하였다."
   ],
   "metadata": {
    "collapsed": false,
    "pycharm": {
     "name": "#%% md\n"
    }
   }
  },
  {
   "cell_type": "code",
   "execution_count": 2,
   "outputs": [
    {
     "name": "stdout",
     "output_type": "stream",
     "text": [
      "최소:87, 최대:54\n"
     ]
    }
   ],
   "source": [
    "def get_stats(numbers):\n",
    "    minimum = min(numbers)\n",
    "    maximum = max(numbers)\n",
    "    return minimum, maximum\n",
    "\n",
    "lengths = [63, 73, 76, 65, 66, 87, 54]\n",
    "mininum, maximum = get_stats(lengths)\n",
    "print(f'최소:{maximum}, 최대:{mininum}')"
   ],
   "metadata": {
    "collapsed": false,
    "pycharm": {
     "name": "#%%\n"
    }
   }
  },
  {
   "cell_type": "markdown",
   "source": [
    "여러값을 한꺼번에 처리하는 별표식을 이용해 여러값을 반환받을 수 있다."
   ],
   "metadata": {
    "collapsed": false,
    "pycharm": {
     "name": "#%% md\n"
    }
   }
  },
  {
   "cell_type": "code",
   "execution_count": 5,
   "outputs": [
    {
     "name": "stdout",
     "output_type": "stream",
     "text": [
      "최대길이: 126%\n",
      "최소길이:  78%\n"
     ]
    }
   ],
   "source": [
    "def get_avg_ratio(numbers):\n",
    "    average = sum(numbers) / len(numbers)\n",
    "    scaled = [x/average for x in numbers]\n",
    "    scaled.sort(reverse=True)\n",
    "    return scaled\n",
    "\n",
    "longest, *middle, shortest = get_avg_ratio(lengths)\n",
    "print(f'최대길이: {longest: >4.0%}')\n",
    "print(f'최소길이: {shortest: >4.0%}')"
   ],
   "metadata": {
    "collapsed": false,
    "pycharm": {
     "name": "#%%\n"
    }
   }
  },
  {
   "cell_type": "markdown",
   "source": [
    "min, max, ave, median, count 를 계산하는 함수도 작성할 수 있다."
   ],
   "metadata": {
    "collapsed": false,
    "pycharm": {
     "name": "#%% md\n"
    }
   }
  },
  {
   "cell_type": "code",
   "execution_count": 11,
   "outputs": [
    {
     "name": "stdout",
     "output_type": "stream",
     "text": [
      "최소길이:54, 최대길이:87\n",
      "평균:69.14285714285714, 중앙값:66, 개수:7\n"
     ]
    }
   ],
   "source": [
    "def get_stats(numbers):\n",
    "    minimum = min(numbers)\n",
    "    maximum = max(numbers)\n",
    "    count = len(numbers)\n",
    "    average = sum(numbers) / count\n",
    "\n",
    "    sorted_numbers =sorted(numbers)\n",
    "    middle = count // 2\n",
    "    if count %2 == 0:\n",
    "        lower = sorted_numbers[middle-1]\n",
    "        upper = sorted_numbers[middle]\n",
    "        median = (lower+upper)/2\n",
    "    else:\n",
    "        median = sorted_numbers[middle]\n",
    "    return minimum, maximum, average, median, count\n",
    "\n",
    "minimum, maximum, average, median, count = get_stats(lengths)\n",
    "print(f'최소길이:{minimum}, 최대길이:{maximum}')\n",
    "print(f'평균:{average}, 중앙값:{median}, 개수:{count}')"
   ],
   "metadata": {
    "collapsed": false,
    "pycharm": {
     "name": "#%%\n"
    }
   }
  },
  {
   "cell_type": "markdown",
   "source": [
    "이러한 코드에는 두가지 문제점이 있다.\n",
    "(1) 반환값의 순서를 혼돈하기 쉽다.\n",
    "(2) 반환값을 언패킹하는 부분이 길어서 줄이 바뀔수도 있고 가독성이 나빠진다."
   ],
   "metadata": {
    "collapsed": false,
    "pycharm": {
     "name": "#%% md\n"
    }
   }
  }
 ],
 "metadata": {
  "kernelspec": {
   "display_name": "Python 3",
   "language": "python",
   "name": "python3"
  },
  "language_info": {
   "codemirror_mode": {
    "name": "ipython",
    "version": 2
   },
   "file_extension": ".py",
   "mimetype": "text/x-python",
   "name": "python",
   "nbconvert_exporter": "python",
   "pygments_lexer": "ipython2",
   "version": "2.7.6"
  }
 },
 "nbformat": 4,
 "nbformat_minor": 0
}